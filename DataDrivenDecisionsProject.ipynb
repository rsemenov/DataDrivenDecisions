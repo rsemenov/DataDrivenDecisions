{
 "cells": [
  {
   "cell_type": "code",
   "execution_count": 1,
   "metadata": {},
   "outputs": [],
   "source": [
    "import math\n",
    "import numpy as np\n",
    "import pandas as pd\n",
    "import matplotlib.pyplot as plt\n",
    "from scipy import stats\n",
    "import os.path as path"
   ]
  },
  {
   "cell_type": "markdown",
   "metadata": {},
   "source": [
    "## Data Preparation"
   ]
  },
  {
   "cell_type": "markdown",
   "metadata": {},
   "source": [
    "Let's start by reading the data with Pandas from csv."
   ]
  },
  {
   "cell_type": "code",
   "execution_count": 2,
   "metadata": {},
   "outputs": [],
   "source": [
    "population = pd.read_csv('studentGrades.csv', sep=';')"
   ]
  },
  {
   "cell_type": "code",
   "execution_count": 3,
   "metadata": {},
   "outputs": [
    {
     "data": {
      "text/plain": [
       "(1044, 35)"
      ]
     },
     "execution_count": 3,
     "metadata": {},
     "output_type": "execute_result"
    }
   ],
   "source": [
    "population.shape"
   ]
  },
  {
   "cell_type": "markdown",
   "metadata": {},
   "source": [
    "The shape of the data tells us that these dataset contains 1044 samples and 35 variables. Let's take a look at the first 5 entries in the dataset to make sure data has been read correctly."
   ]
  },
  {
   "cell_type": "code",
   "execution_count": 4,
   "metadata": {},
   "outputs": [
    {
     "data": {
      "text/html": [
       "<div>\n",
       "<style scoped>\n",
       "    .dataframe tbody tr th:only-of-type {\n",
       "        vertical-align: middle;\n",
       "    }\n",
       "\n",
       "    .dataframe tbody tr th {\n",
       "        vertical-align: top;\n",
       "    }\n",
       "\n",
       "    .dataframe thead th {\n",
       "        text-align: right;\n",
       "    }\n",
       "</style>\n",
       "<table border=\"1\" class=\"dataframe\">\n",
       "  <thead>\n",
       "    <tr style=\"text-align: right;\">\n",
       "      <th></th>\n",
       "      <th>ID</th>\n",
       "      <th>school</th>\n",
       "      <th>sex</th>\n",
       "      <th>age</th>\n",
       "      <th>address</th>\n",
       "      <th>famsize</th>\n",
       "      <th>Pstatus</th>\n",
       "      <th>Medu</th>\n",
       "      <th>Fedu</th>\n",
       "      <th>Mjob</th>\n",
       "      <th>...</th>\n",
       "      <th>freetime</th>\n",
       "      <th>goout</th>\n",
       "      <th>Dalc</th>\n",
       "      <th>Walc</th>\n",
       "      <th>health</th>\n",
       "      <th>absences</th>\n",
       "      <th>G1</th>\n",
       "      <th>G2</th>\n",
       "      <th>G3</th>\n",
       "      <th>subject</th>\n",
       "    </tr>\n",
       "  </thead>\n",
       "  <tbody>\n",
       "    <tr>\n",
       "      <th>0</th>\n",
       "      <td>1</td>\n",
       "      <td>GP</td>\n",
       "      <td>F</td>\n",
       "      <td>15</td>\n",
       "      <td>U</td>\n",
       "      <td>LE3</td>\n",
       "      <td>A</td>\n",
       "      <td>3</td>\n",
       "      <td>3</td>\n",
       "      <td>other</td>\n",
       "      <td>...</td>\n",
       "      <td>3</td>\n",
       "      <td>4</td>\n",
       "      <td>4</td>\n",
       "      <td>4</td>\n",
       "      <td>1</td>\n",
       "      <td>6</td>\n",
       "      <td>10</td>\n",
       "      <td>13</td>\n",
       "      <td>13</td>\n",
       "      <td>math</td>\n",
       "    </tr>\n",
       "    <tr>\n",
       "      <th>1</th>\n",
       "      <td>2</td>\n",
       "      <td>GP</td>\n",
       "      <td>M</td>\n",
       "      <td>16</td>\n",
       "      <td>U</td>\n",
       "      <td>GT3</td>\n",
       "      <td>T</td>\n",
       "      <td>0</td>\n",
       "      <td>2</td>\n",
       "      <td>other</td>\n",
       "      <td>...</td>\n",
       "      <td>3</td>\n",
       "      <td>2</td>\n",
       "      <td>2</td>\n",
       "      <td>4</td>\n",
       "      <td>5</td>\n",
       "      <td>0</td>\n",
       "      <td>11</td>\n",
       "      <td>12</td>\n",
       "      <td>11</td>\n",
       "      <td>port</td>\n",
       "    </tr>\n",
       "    <tr>\n",
       "      <th>2</th>\n",
       "      <td>3</td>\n",
       "      <td>GP</td>\n",
       "      <td>M</td>\n",
       "      <td>17</td>\n",
       "      <td>U</td>\n",
       "      <td>GT3</td>\n",
       "      <td>T</td>\n",
       "      <td>3</td>\n",
       "      <td>3</td>\n",
       "      <td>services</td>\n",
       "      <td>...</td>\n",
       "      <td>3</td>\n",
       "      <td>4</td>\n",
       "      <td>2</td>\n",
       "      <td>3</td>\n",
       "      <td>4</td>\n",
       "      <td>12</td>\n",
       "      <td>12</td>\n",
       "      <td>12</td>\n",
       "      <td>11</td>\n",
       "      <td>math</td>\n",
       "    </tr>\n",
       "    <tr>\n",
       "      <th>3</th>\n",
       "      <td>4</td>\n",
       "      <td>GP</td>\n",
       "      <td>M</td>\n",
       "      <td>15</td>\n",
       "      <td>U</td>\n",
       "      <td>LE3</td>\n",
       "      <td>T</td>\n",
       "      <td>4</td>\n",
       "      <td>2</td>\n",
       "      <td>teacher</td>\n",
       "      <td>...</td>\n",
       "      <td>5</td>\n",
       "      <td>2</td>\n",
       "      <td>1</td>\n",
       "      <td>1</td>\n",
       "      <td>3</td>\n",
       "      <td>10</td>\n",
       "      <td>18</td>\n",
       "      <td>17</td>\n",
       "      <td>18</td>\n",
       "      <td>port</td>\n",
       "    </tr>\n",
       "    <tr>\n",
       "      <th>4</th>\n",
       "      <td>5</td>\n",
       "      <td>GP</td>\n",
       "      <td>M</td>\n",
       "      <td>18</td>\n",
       "      <td>U</td>\n",
       "      <td>LE3</td>\n",
       "      <td>T</td>\n",
       "      <td>2</td>\n",
       "      <td>2</td>\n",
       "      <td>other</td>\n",
       "      <td>...</td>\n",
       "      <td>5</td>\n",
       "      <td>5</td>\n",
       "      <td>2</td>\n",
       "      <td>4</td>\n",
       "      <td>5</td>\n",
       "      <td>2</td>\n",
       "      <td>9</td>\n",
       "      <td>8</td>\n",
       "      <td>8</td>\n",
       "      <td>math</td>\n",
       "    </tr>\n",
       "  </tbody>\n",
       "</table>\n",
       "<p>5 rows × 35 columns</p>\n",
       "</div>"
      ],
      "text/plain": [
       "   ID school sex  age address famsize Pstatus  Medu  Fedu      Mjob   ...    \\\n",
       "0   1     GP   F   15       U     LE3       A     3     3     other   ...     \n",
       "1   2     GP   M   16       U     GT3       T     0     2     other   ...     \n",
       "2   3     GP   M   17       U     GT3       T     3     3  services   ...     \n",
       "3   4     GP   M   15       U     LE3       T     4     2   teacher   ...     \n",
       "4   5     GP   M   18       U     LE3       T     2     2     other   ...     \n",
       "\n",
       "  freetime goout Dalc  Walc  health  absences  G1  G2  G3 subject  \n",
       "0        3     4    4     4       1         6  10  13  13    math  \n",
       "1        3     2    2     4       5         0  11  12  11    port  \n",
       "2        3     4    2     3       4        12  12  12  11    math  \n",
       "3        5     2    1     1       3        10  18  17  18    port  \n",
       "4        5     5    2     4       5         2   9   8   8    math  \n",
       "\n",
       "[5 rows x 35 columns]"
      ]
     },
     "execution_count": 4,
     "metadata": {},
     "output_type": "execute_result"
    }
   ],
   "source": [
    "population.head()"
   ]
  },
  {
   "cell_type": "markdown",
   "metadata": {},
   "source": [
    "## Data exploration\n",
    "In this section, using descriptive statistics and graphical displays I will explore some properties of the students dataset including distribution of variables and variables correlation. "
   ]
  },
  {
   "cell_type": "markdown",
   "metadata": {},
   "source": [
    "Below I define a function `describe()` that returns basic variable statistics. I am using this function multiple time in this project."
   ]
  },
  {
   "cell_type": "code",
   "execution_count": 5,
   "metadata": {},
   "outputs": [],
   "source": [
    "def describe(variable, isSample = False):\n",
    "    ddof = 1 if isSample else 0\n",
    "    var_stats = variable.describe()\n",
    "    var_stats['std'] = variable.std(ddof=ddof)\n",
    "    var_stats['mode'] = stats.mode(variable)[0][0]\n",
    "    var_stats['median'] = variable.median()\n",
    "    var_stats['skew'] = stats.skew(variable)\n",
    "    var_stats['kurtosis'] = stats.kurtosis(variable, fisher=True) # 3 is substracted by scipy\n",
    "    return var_stats;"
   ]
  },
  {
   "cell_type": "markdown",
   "metadata": {},
   "source": [
    "### Final grade distribution\n",
    "Let's start by exploring the variable of the most interest - final grade **G3**. Exhibit below displays a histogram and boxplot for **G3**."
   ]
  },
  {
   "cell_type": "code",
   "execution_count": 6,
   "metadata": {},
   "outputs": [
    {
     "data": {
      "text/plain": [
       "(array([ 53.,   1.,   0.,   0.,   1.,   8.,  18.,  19.,  67.,  63., 153.,\n",
       "        151., 103., 113.,  90.,  82.,  52.,  35.,  27.,   8.]),\n",
       " array([ 0.,  1.,  2.,  3.,  4.,  5.,  6.,  7.,  8.,  9., 10., 11., 12.,\n",
       "        13., 14., 15., 16., 17., 18., 19., 20.]),\n",
       " <a list of 20 Patch objects>)"
      ]
     },
     "execution_count": 6,
     "metadata": {},
     "output_type": "execute_result"
    },
    {
     "data": {
      "image/png": "[encoded data removed]",
      "text/plain": [
       "<Figure size 432x288 with 2 Axes>"
      ]
     },
     "metadata": {
      "needs_background": "light"
     },
     "output_type": "display_data"
    }
   ],
   "source": [
    "fig, axs = plt.subplots(2, 1, tight_layout=False)\n",
    "axs[0].boxplot(population['G3'], vert=False)\n",
    "axs[1].hist(population['G3'], bins=20, edgecolor='black', linewidth=1)"
   ]
  },
  {
   "cell_type": "markdown",
   "metadata": {},
   "source": [
    "Now, let's calculate descriptive statistics for **G3**"
   ]
  },
  {
   "cell_type": "code",
   "execution_count": 7,
   "metadata": {},
   "outputs": [
    {
     "data": {
      "text/plain": [
       "count       1044.000000\n",
       "mean          11.341954\n",
       "std            3.862944\n",
       "min            0.000000\n",
       "25%           10.000000\n",
       "50%           11.000000\n",
       "75%           14.000000\n",
       "max           20.000000\n",
       "mode          10.000000\n",
       "median        11.000000\n",
       "skew          -0.984547\n",
       "kurtosis       1.730235\n",
       "Name: G3, dtype: float64"
      ]
     },
     "execution_count": 7,
     "metadata": {},
     "output_type": "execute_result"
    }
   ],
   "source": [
    "describe(population['G3'])"
   ]
  },
  {
   "cell_type": "markdown",
   "metadata": {},
   "source": [
    "It is a bimodal distribution with 2 modes 0 and 10. The distribution has a slightly fat right tale and considering that $mode < median < mean$ this distribution is right skewed. Interesting to notice that skew coefficient is negative that should mean the distribution is left skewed. However, there is an explanation to it - Pearson skeweness coeficient can't be used on non-unimodal distributions.\n",
    "\n",
    "Let's take a closer look at few samples when **G3** is 0."
   ]
  },
  {
   "cell_type": "code",
   "execution_count": 8,
   "metadata": {},
   "outputs": [
    {
     "data": {
      "text/html": [
       "<div>\n",
       "<style scoped>\n",
       "    .dataframe tbody tr th:only-of-type {\n",
       "        vertical-align: middle;\n",
       "    }\n",
       "\n",
       "    .dataframe tbody tr th {\n",
       "        vertical-align: top;\n",
       "    }\n",
       "\n",
       "    .dataframe thead th {\n",
       "        text-align: right;\n",
       "    }\n",
       "</style>\n",
       "<table border=\"1\" class=\"dataframe\">\n",
       "  <thead>\n",
       "    <tr style=\"text-align: right;\">\n",
       "      <th></th>\n",
       "      <th>ID</th>\n",
       "      <th>school</th>\n",
       "      <th>sex</th>\n",
       "      <th>age</th>\n",
       "      <th>address</th>\n",
       "      <th>famsize</th>\n",
       "      <th>Pstatus</th>\n",
       "      <th>Medu</th>\n",
       "      <th>Fedu</th>\n",
       "      <th>Mjob</th>\n",
       "      <th>...</th>\n",
       "      <th>freetime</th>\n",
       "      <th>goout</th>\n",
       "      <th>Dalc</th>\n",
       "      <th>Walc</th>\n",
       "      <th>health</th>\n",
       "      <th>absences</th>\n",
       "      <th>G1</th>\n",
       "      <th>G2</th>\n",
       "      <th>G3</th>\n",
       "      <th>subject</th>\n",
       "    </tr>\n",
       "  </thead>\n",
       "  <tbody>\n",
       "    <tr>\n",
       "      <th>17</th>\n",
       "      <td>18</td>\n",
       "      <td>GP</td>\n",
       "      <td>M</td>\n",
       "      <td>17</td>\n",
       "      <td>R</td>\n",
       "      <td>LE3</td>\n",
       "      <td>T</td>\n",
       "      <td>2</td>\n",
       "      <td>1</td>\n",
       "      <td>at_home</td>\n",
       "      <td>...</td>\n",
       "      <td>3</td>\n",
       "      <td>2</td>\n",
       "      <td>2</td>\n",
       "      <td>2</td>\n",
       "      <td>5</td>\n",
       "      <td>0</td>\n",
       "      <td>7</td>\n",
       "      <td>6</td>\n",
       "      <td>0</td>\n",
       "      <td>math</td>\n",
       "    </tr>\n",
       "    <tr>\n",
       "      <th>45</th>\n",
       "      <td>46</td>\n",
       "      <td>GP</td>\n",
       "      <td>M</td>\n",
       "      <td>15</td>\n",
       "      <td>R</td>\n",
       "      <td>GT3</td>\n",
       "      <td>T</td>\n",
       "      <td>3</td>\n",
       "      <td>4</td>\n",
       "      <td>at_home</td>\n",
       "      <td>...</td>\n",
       "      <td>3</td>\n",
       "      <td>3</td>\n",
       "      <td>1</td>\n",
       "      <td>1</td>\n",
       "      <td>5</td>\n",
       "      <td>0</td>\n",
       "      <td>9</td>\n",
       "      <td>0</td>\n",
       "      <td>0</td>\n",
       "      <td>math</td>\n",
       "    </tr>\n",
       "    <tr>\n",
       "      <th>62</th>\n",
       "      <td>63</td>\n",
       "      <td>GP</td>\n",
       "      <td>F</td>\n",
       "      <td>16</td>\n",
       "      <td>U</td>\n",
       "      <td>GT3</td>\n",
       "      <td>T</td>\n",
       "      <td>1</td>\n",
       "      <td>3</td>\n",
       "      <td>at_home</td>\n",
       "      <td>...</td>\n",
       "      <td>3</td>\n",
       "      <td>5</td>\n",
       "      <td>1</td>\n",
       "      <td>1</td>\n",
       "      <td>3</td>\n",
       "      <td>0</td>\n",
       "      <td>8</td>\n",
       "      <td>7</td>\n",
       "      <td>0</td>\n",
       "      <td>math</td>\n",
       "    </tr>\n",
       "    <tr>\n",
       "      <th>69</th>\n",
       "      <td>70</td>\n",
       "      <td>GP</td>\n",
       "      <td>F</td>\n",
       "      <td>16</td>\n",
       "      <td>U</td>\n",
       "      <td>GT3</td>\n",
       "      <td>A</td>\n",
       "      <td>3</td>\n",
       "      <td>3</td>\n",
       "      <td>other</td>\n",
       "      <td>...</td>\n",
       "      <td>3</td>\n",
       "      <td>2</td>\n",
       "      <td>1</td>\n",
       "      <td>1</td>\n",
       "      <td>5</td>\n",
       "      <td>0</td>\n",
       "      <td>4</td>\n",
       "      <td>0</td>\n",
       "      <td>0</td>\n",
       "      <td>math</td>\n",
       "    </tr>\n",
       "    <tr>\n",
       "      <th>97</th>\n",
       "      <td>98</td>\n",
       "      <td>MS</td>\n",
       "      <td>F</td>\n",
       "      <td>19</td>\n",
       "      <td>U</td>\n",
       "      <td>GT3</td>\n",
       "      <td>T</td>\n",
       "      <td>1</td>\n",
       "      <td>1</td>\n",
       "      <td>at_home</td>\n",
       "      <td>...</td>\n",
       "      <td>5</td>\n",
       "      <td>5</td>\n",
       "      <td>2</td>\n",
       "      <td>3</td>\n",
       "      <td>2</td>\n",
       "      <td>0</td>\n",
       "      <td>5</td>\n",
       "      <td>0</td>\n",
       "      <td>0</td>\n",
       "      <td>port</td>\n",
       "    </tr>\n",
       "    <tr>\n",
       "      <th>139</th>\n",
       "      <td>140</td>\n",
       "      <td>GP</td>\n",
       "      <td>F</td>\n",
       "      <td>15</td>\n",
       "      <td>R</td>\n",
       "      <td>GT3</td>\n",
       "      <td>T</td>\n",
       "      <td>3</td>\n",
       "      <td>4</td>\n",
       "      <td>services</td>\n",
       "      <td>...</td>\n",
       "      <td>2</td>\n",
       "      <td>2</td>\n",
       "      <td>2</td>\n",
       "      <td>2</td>\n",
       "      <td>5</td>\n",
       "      <td>0</td>\n",
       "      <td>12</td>\n",
       "      <td>0</td>\n",
       "      <td>0</td>\n",
       "      <td>math</td>\n",
       "    </tr>\n",
       "    <tr>\n",
       "      <th>150</th>\n",
       "      <td>151</td>\n",
       "      <td>GP</td>\n",
       "      <td>F</td>\n",
       "      <td>18</td>\n",
       "      <td>U</td>\n",
       "      <td>GT3</td>\n",
       "      <td>T</td>\n",
       "      <td>2</td>\n",
       "      <td>2</td>\n",
       "      <td>at_home</td>\n",
       "      <td>...</td>\n",
       "      <td>3</td>\n",
       "      <td>3</td>\n",
       "      <td>1</td>\n",
       "      <td>1</td>\n",
       "      <td>3</td>\n",
       "      <td>0</td>\n",
       "      <td>9</td>\n",
       "      <td>10</td>\n",
       "      <td>0</td>\n",
       "      <td>math</td>\n",
       "    </tr>\n",
       "    <tr>\n",
       "      <th>168</th>\n",
       "      <td>169</td>\n",
       "      <td>MS</td>\n",
       "      <td>F</td>\n",
       "      <td>19</td>\n",
       "      <td>R</td>\n",
       "      <td>GT3</td>\n",
       "      <td>T</td>\n",
       "      <td>2</td>\n",
       "      <td>3</td>\n",
       "      <td>services</td>\n",
       "      <td>...</td>\n",
       "      <td>4</td>\n",
       "      <td>2</td>\n",
       "      <td>1</td>\n",
       "      <td>2</td>\n",
       "      <td>5</td>\n",
       "      <td>0</td>\n",
       "      <td>7</td>\n",
       "      <td>5</td>\n",
       "      <td>0</td>\n",
       "      <td>math</td>\n",
       "    </tr>\n",
       "    <tr>\n",
       "      <th>172</th>\n",
       "      <td>173</td>\n",
       "      <td>GP</td>\n",
       "      <td>M</td>\n",
       "      <td>19</td>\n",
       "      <td>U</td>\n",
       "      <td>GT3</td>\n",
       "      <td>T</td>\n",
       "      <td>3</td>\n",
       "      <td>2</td>\n",
       "      <td>services</td>\n",
       "      <td>...</td>\n",
       "      <td>5</td>\n",
       "      <td>4</td>\n",
       "      <td>1</td>\n",
       "      <td>1</td>\n",
       "      <td>4</td>\n",
       "      <td>0</td>\n",
       "      <td>5</td>\n",
       "      <td>0</td>\n",
       "      <td>0</td>\n",
       "      <td>math</td>\n",
       "    </tr>\n",
       "    <tr>\n",
       "      <th>190</th>\n",
       "      <td>191</td>\n",
       "      <td>MS</td>\n",
       "      <td>F</td>\n",
       "      <td>18</td>\n",
       "      <td>R</td>\n",
       "      <td>GT3</td>\n",
       "      <td>T</td>\n",
       "      <td>2</td>\n",
       "      <td>2</td>\n",
       "      <td>at_home</td>\n",
       "      <td>...</td>\n",
       "      <td>3</td>\n",
       "      <td>3</td>\n",
       "      <td>1</td>\n",
       "      <td>1</td>\n",
       "      <td>4</td>\n",
       "      <td>0</td>\n",
       "      <td>9</td>\n",
       "      <td>0</td>\n",
       "      <td>0</td>\n",
       "      <td>port</td>\n",
       "    </tr>\n",
       "    <tr>\n",
       "      <th>202</th>\n",
       "      <td>203</td>\n",
       "      <td>MS</td>\n",
       "      <td>M</td>\n",
       "      <td>18</td>\n",
       "      <td>R</td>\n",
       "      <td>GT3</td>\n",
       "      <td>T</td>\n",
       "      <td>2</td>\n",
       "      <td>1</td>\n",
       "      <td>other</td>\n",
       "      <td>...</td>\n",
       "      <td>4</td>\n",
       "      <td>3</td>\n",
       "      <td>1</td>\n",
       "      <td>3</td>\n",
       "      <td>5</td>\n",
       "      <td>0</td>\n",
       "      <td>7</td>\n",
       "      <td>7</td>\n",
       "      <td>0</td>\n",
       "      <td>port</td>\n",
       "    </tr>\n",
       "    <tr>\n",
       "      <th>231</th>\n",
       "      <td>232</td>\n",
       "      <td>MS</td>\n",
       "      <td>F</td>\n",
       "      <td>19</td>\n",
       "      <td>R</td>\n",
       "      <td>GT3</td>\n",
       "      <td>A</td>\n",
       "      <td>1</td>\n",
       "      <td>1</td>\n",
       "      <td>at_home</td>\n",
       "      <td>...</td>\n",
       "      <td>5</td>\n",
       "      <td>4</td>\n",
       "      <td>1</td>\n",
       "      <td>4</td>\n",
       "      <td>1</td>\n",
       "      <td>0</td>\n",
       "      <td>8</td>\n",
       "      <td>0</td>\n",
       "      <td>0</td>\n",
       "      <td>port</td>\n",
       "    </tr>\n",
       "  </tbody>\n",
       "</table>\n",
       "<p>12 rows × 35 columns</p>\n",
       "</div>"
      ],
      "text/plain": [
       "      ID school sex  age address famsize Pstatus  Medu  Fedu      Mjob  \\\n",
       "17    18     GP   M   17       R     LE3       T     2     1   at_home   \n",
       "45    46     GP   M   15       R     GT3       T     3     4   at_home   \n",
       "62    63     GP   F   16       U     GT3       T     1     3   at_home   \n",
       "69    70     GP   F   16       U     GT3       A     3     3     other   \n",
       "97    98     MS   F   19       U     GT3       T     1     1   at_home   \n",
       "139  140     GP   F   15       R     GT3       T     3     4  services   \n",
       "150  151     GP   F   18       U     GT3       T     2     2   at_home   \n",
       "168  169     MS   F   19       R     GT3       T     2     3  services   \n",
       "172  173     GP   M   19       U     GT3       T     3     2  services   \n",
       "190  191     MS   F   18       R     GT3       T     2     2   at_home   \n",
       "202  203     MS   M   18       R     GT3       T     2     1     other   \n",
       "231  232     MS   F   19       R     GT3       A     1     1   at_home   \n",
       "\n",
       "      ...   freetime goout Dalc  Walc  health  absences  G1  G2 G3 subject  \n",
       "17    ...          3     2    2     2       5         0   7   6  0    math  \n",
       "45    ...          3     3    1     1       5         0   9   0  0    math  \n",
       "62    ...          3     5    1     1       3         0   8   7  0    math  \n",
       "69    ...          3     2    1     1       5         0   4   0  0    math  \n",
       "97    ...          5     5    2     3       2         0   5   0  0    port  \n",
       "139   ...          2     2    2     2       5         0  12   0  0    math  \n",
       "150   ...          3     3    1     1       3         0   9  10  0    math  \n",
       "168   ...          4     2    1     2       5         0   7   5  0    math  \n",
       "172   ...          5     4    1     1       4         0   5   0  0    math  \n",
       "190   ...          3     3    1     1       4         0   9   0  0    port  \n",
       "202   ...          4     3    1     3       5         0   7   7  0    port  \n",
       "231   ...          5     4    1     4       1         0   8   0  0    port  \n",
       "\n",
       "[12 rows x 35 columns]"
      ]
     },
     "execution_count": 8,
     "metadata": {},
     "output_type": "execute_result"
    }
   ],
   "source": [
    "population[population['G3'] == 0].head(12)"
   ]
  },
  {
   "cell_type": "markdown",
   "metadata": {},
   "source": [
    "Looks like these students didn't do well on the course (grades for term 1 **G1** and term 2 **G2** are mostly lower than median of 11) and decided to drop/withdraw from the course to avoid low grade. We can consider this students as outliers and treat them as a separate category. It might be usefull to investigate what could affect students decision to drop the class. \n",
    "\n",
    "Let's remove the outliers and calculate statistics again."
   ]
  },
  {
   "cell_type": "code",
   "execution_count": 9,
   "metadata": {},
   "outputs": [
    {
     "data": {
      "text/plain": [
       "(array([  1.,   0.,   0.,   1.,   8.,  18.,  19.,  67.,  63., 153., 151.,\n",
       "        103., 113.,  90.,  82.,  52.,  35.,  27.,   7.,   1.]),\n",
       " array([ 1.  ,  1.95,  2.9 ,  3.85,  4.8 ,  5.75,  6.7 ,  7.65,  8.6 ,\n",
       "         9.55, 10.5 , 11.45, 12.4 , 13.35, 14.3 , 15.25, 16.2 , 17.15,\n",
       "        18.1 , 19.05, 20.  ]),\n",
       " <a list of 20 Patch objects>)"
      ]
     },
     "execution_count": 9,
     "metadata": {},
     "output_type": "execute_result"
    },
    {
     "data": {
      "image/png": "[encoded data removed]",
      "text/plain": [
       "<Figure size 432x288 with 2 Axes>"
      ]
     },
     "metadata": {
      "needs_background": "light"
     },
     "output_type": "display_data"
    }
   ],
   "source": [
    "G3_no_drops = population[population['G3'] > 0]['G3']\n",
    "\n",
    "fig, axs = plt.subplots(2, 1, tight_layout=False)\n",
    "axs[0].boxplot(G3_no_drops, vert=False)\n",
    "axs[1].hist(G3_no_drops, bins=20, edgecolor='black', linewidth=1)\n"
   ]
  },
  {
   "cell_type": "code",
   "execution_count": 10,
   "metadata": {},
   "outputs": [
    {
     "data": {
      "text/plain": [
       "count       991.000000\n",
       "mean         11.948537\n",
       "std           2.910778\n",
       "min           1.000000\n",
       "25%          10.000000\n",
       "50%          12.000000\n",
       "75%          14.000000\n",
       "max          20.000000\n",
       "mode         10.000000\n",
       "median       12.000000\n",
       "skew          0.105460\n",
       "kurtosis     -0.221284\n",
       "Name: G3, dtype: float64"
      ]
     },
     "execution_count": 10,
     "metadata": {},
     "output_type": "execute_result"
    }
   ],
   "source": [
    "describe(G3_no_drops)"
   ]
  },
  {
   "cell_type": "markdown",
   "metadata": {},
   "source": [
    "After removing outliers the distribution appears to be normal unimodal and has a right skewed shape. This is confirmed by skewness coefficient that is bigger than 0 and the fact that mode < median.\n",
    "\n",
    "Mode of 10 means that most of the students get grade 10, median of 12 means that 50% of the students get grade lower than or equal to 12, and 50% of the students got grade greater or equal to 12. The right skewness of the distriution suggests that the number of students who got grade higher than mode is bigger than the number of students who got grade lower than 10."
   ]
  },
  {
   "cell_type": "markdown",
   "metadata": {},
   "source": [
    "### Age distribution"
   ]
  },
  {
   "cell_type": "code",
   "execution_count": 11,
   "metadata": {},
   "outputs": [
    {
     "data": {
      "text/plain": [
       "(array([194., 281., 277., 222.,  56.,   9.,   3.,   2.]),\n",
       " array([15.   , 15.875, 16.75 , 17.625, 18.5  , 19.375, 20.25 , 21.125,\n",
       "        22.   ]),\n",
       " <a list of 8 Patch objects>)"
      ]
     },
     "execution_count": 11,
     "metadata": {},
     "output_type": "execute_result"
    },
    {
     "data": {
      "image/png": "[encoded data removed]",
      "text/plain": [
       "<Figure size 432x288 with 2 Axes>"
      ]
     },
     "metadata": {
      "needs_background": "light"
     },
     "output_type": "display_data"
    }
   ],
   "source": [
    "fig, axs = plt.subplots(2, 1, tight_layout=False)\n",
    "axs[0].boxplot(population['age'], vert=False)\n",
    "axs[1].hist(population['age'], bins=8, edgecolor='black', linewidth=1)"
   ]
  },
  {
   "cell_type": "code",
   "execution_count": 12,
   "metadata": {},
   "outputs": [
    {
     "data": {
      "text/plain": [
       "count       1044.000000\n",
       "mean          16.726054\n",
       "std            1.239381\n",
       "min           15.000000\n",
       "25%           16.000000\n",
       "50%           17.000000\n",
       "75%           18.000000\n",
       "max           22.000000\n",
       "mode          16.000000\n",
       "median        17.000000\n",
       "skew           0.433405\n",
       "kurtosis       0.030857\n",
       "Name: age, dtype: float64"
      ]
     },
     "execution_count": 12,
     "metadata": {},
     "output_type": "execute_result"
    }
   ],
   "source": [
    "describe(population['age'])"
   ]
  },
  {
   "cell_type": "markdown",
   "metadata": {},
   "source": [
    "The age is normally distributed, and has a right skewed shape with some outliers that is confirmed by the skeweness coefficient that is greater than 0. Min age of the students is 15 and max age is 22 with the median of 17. Scipy module  allows to conduct a skewness t-test by using `skewtest` function. This function tests the null hypothesis that the skewness of the population that the sample was drawn from is the same as that of a corresponding normal distribution."
   ]
  },
  {
   "cell_type": "code",
   "execution_count": 13,
   "metadata": {},
   "outputs": [
    {
     "name": "stdout",
     "output_type": "stream",
     "text": [
      "p-value = 0.00000003\n"
     ]
    }
   ],
   "source": [
    "t, pvalue = stats.skewtest(population['age'])\n",
    "print(\"p-value = %2.8f\" % pvalue)"
   ]
  },
  {
   "cell_type": "markdown",
   "metadata": {},
   "source": [
    "p-value < 0.05 so we reject the null hypothesis. This confirms that age distribution is skewed and because skewness coefficient is > 0 it is skewed to the right."
   ]
  },
  {
   "cell_type": "markdown",
   "metadata": {},
   "source": [
    "### Correlation between age and final grade\n",
    "Let's take a look if there is any correlation between the student's age and final grade."
   ]
  },
  {
   "cell_type": "code",
   "execution_count": 14,
   "metadata": {},
   "outputs": [
    {
     "data": {
      "text/plain": [
       "<matplotlib.collections.PathCollection at 0x1ac519a6c88>"
      ]
     },
     "execution_count": 14,
     "metadata": {},
     "output_type": "execute_result"
    },
    {
     "data": {
      "image/png": "[encoded data removed]",
      "text/plain": [
       "<Figure size 432x288 with 1 Axes>"
      ]
     },
     "metadata": {
      "needs_background": "light"
     },
     "output_type": "display_data"
    }
   ],
   "source": [
    "plt.scatter(population['age'], population['G3'])"
   ]
  },
  {
   "cell_type": "markdown",
   "metadata": {},
   "source": [
    "And let's calculate correlation coefficient. Both variables are normally distributed so we can use Pearson correlation."
   ]
  },
  {
   "cell_type": "code",
   "execution_count": 15,
   "metadata": {},
   "outputs": [
    {
     "name": "stdout",
     "output_type": "stream",
     "text": [
      "r =  -0.1253\n",
      "p-value = 0.000049251\n"
     ]
    }
   ],
   "source": [
    "r, p_value = stats.pearsonr(population['age'], population['G3'])\n",
    "print(\"r = %8.4f\" % r)\n",
    "print(\"p-value = %8.9f\" % p_value)"
   ]
  },
  {
   "cell_type": "markdown",
   "metadata": {},
   "source": [
    "The null hypothesis for `stats.pearsonr` is that there is no correlation. $ p value < 0.05$ means that we reject the null hypothesis and there is an evidence to suggest that there is a correlation at 5% significance level. Looking at the coefficient itself $r < 0$ and $|r|$ is small that indicates that there is **weak negative correlation** between student's age and grade. "
   ]
  },
  {
   "cell_type": "markdown",
   "metadata": {},
   "source": [
    "### Correlation between school and final grade\n",
    "Let's see if strudents' grades in one school are better than in the other. I will start with examining the distribution of students per school."
   ]
  },
  {
   "cell_type": "code",
   "execution_count": 16,
   "metadata": {},
   "outputs": [
    {
     "data": {
      "text/plain": [
       "<matplotlib.axes._subplots.AxesSubplot at 0x1ac519e1ef0>"
      ]
     },
     "execution_count": 16,
     "metadata": {},
     "output_type": "execute_result"
    },
    {
     "data": {
      "image/png": "[encoded data removed]",
      "text/plain": [
       "<Figure size 432x288 with 1 Axes>"
      ]
     },
     "metadata": {
      "needs_background": "light"
     },
     "output_type": "display_data"
    }
   ],
   "source": [
    "rows_per_school = pd.DataFrame(population['school'].value_counts())\n",
    "rows_per_school.plot.bar()"
   ]
  },
  {
   "cell_type": "markdown",
   "metadata": {},
   "source": [
    "Number of students who take Portuguese and Math classes in Gabriel Pereira school is much higher than in Mousinho da Silveira.\n",
    "\n",
    "Now, let's create a boxplot and calculate basic statistics to see if there is a correlation between school and a grade."
   ]
  },
  {
   "cell_type": "code",
   "execution_count": 17,
   "metadata": {},
   "outputs": [
    {
     "data": {
      "text/plain": [
       "[Text(0,0,'GP'), Text(0,0,'MS')]"
      ]
     },
     "execution_count": 17,
     "metadata": {},
     "output_type": "execute_result"
    },
    {
     "data": {
      "image/png": "[encoded data removed]",
      "text/plain": [
       "<Figure size 432x288 with 1 Axes>"
      ]
     },
     "metadata": {
      "needs_background": "light"
     },
     "output_type": "display_data"
    }
   ],
   "source": [
    "GP_school = population[population['school'] == \"GP\"]\n",
    "MS_school = population[population['school'] == \"MS\"]\n",
    "\n",
    "fig, axes = plt.subplots(1,1)\n",
    "axes.boxplot([GP_school['G3'], MS_school['G3']])\n",
    "axes.set_xlabel(\"School\")\n",
    "axes.set_ylabel(\"Grade\")\n",
    "axes.set_xticklabels([\"GP\", \"MS\"])"
   ]
  },
  {
   "cell_type": "code",
   "execution_count": 18,
   "metadata": {},
   "outputs": [
    {
     "data": {
      "text/plain": [
       "count       772.000000\n",
       "mean         11.633420\n",
       "std           3.806740\n",
       "min           0.000000\n",
       "25%          10.000000\n",
       "50%          12.000000\n",
       "75%          14.000000\n",
       "max          20.000000\n",
       "mode         11.000000\n",
       "median       12.000000\n",
       "skew         -1.072203\n",
       "kurtosis      1.960290\n",
       "Name: G3, dtype: float64"
      ]
     },
     "execution_count": 18,
     "metadata": {},
     "output_type": "execute_result"
    }
   ],
   "source": [
    "describe(GP_school['G3'])"
   ]
  },
  {
   "cell_type": "code",
   "execution_count": 19,
   "metadata": {},
   "outputs": [
    {
     "data": {
      "text/plain": [
       "count       272.000000\n",
       "mean         10.514706\n",
       "std           3.901330\n",
       "min           0.000000\n",
       "25%           9.000000\n",
       "50%          10.000000\n",
       "75%          13.000000\n",
       "max          19.000000\n",
       "mode         10.000000\n",
       "median       10.000000\n",
       "skew         -0.802515\n",
       "kurtosis      1.491535\n",
       "Name: G3, dtype: float64"
      ]
     },
     "execution_count": 19,
     "metadata": {},
     "output_type": "execute_result"
    }
   ],
   "source": [
    "describe(MS_school['G3'])"
   ]
  },
  {
   "cell_type": "markdown",
   "metadata": {},
   "source": [
    "Based on the boxplots and the quantiles there seems to be a weak correlation between a school and the grade. Grades in Gabriel Pereira might be higher than grades in Mousinho da Silveira. To know for sure we would need to conduct a 2 sample hypothesis test."
   ]
  },
  {
   "cell_type": "markdown",
   "metadata": {},
   "source": [
    "### Correlation between school, subject, and final grade\n",
    "\n",
    "Let's examine if there is a correlation between school, subject, and grade."
   ]
  },
  {
   "cell_type": "code",
   "execution_count": 20,
   "metadata": {},
   "outputs": [
    {
     "data": {
      "image/png": "[encoded data removed]",
      "text/plain": [
       "<Figure size 432x288 with 1 Axes>"
      ]
     },
     "metadata": {
      "needs_background": "light"
     },
     "output_type": "display_data"
    }
   ],
   "source": [
    "GP_school = population[population['school'] == \"GP\"]\n",
    "MS_school = population[population['school'] == \"MS\"]\n",
    "\n",
    "math_grades = [GP_school[GP_school['subject'] == \"math\"]['G3'].values,\n",
    "              MS_school[MS_school['subject'] == \"math\"]['G3'].values]\n",
    "\n",
    "port_grades = [GP_school[GP_school['subject'] == \"port\"]['G3'].values,\n",
    "              MS_school[MS_school['subject'] == \"port\"]['G3'].values]\n",
    "\n",
    "def set_box_color(bp, color):\n",
    "    plt.setp(bp['boxes'], color=color)\n",
    "    plt.setp(bp['whiskers'], color=color)\n",
    "    plt.setp(bp['caps'], color=color)\n",
    "    plt.setp(bp['medians'], color=color)\n",
    "    \n",
    "ticks = ['GP', 'MS']\n",
    "\n",
    "plt.figure()\n",
    "\n",
    "bpl = plt.boxplot(math_grades, positions=np.array(range(len(math_grades)))*2.0-0.4, sym='', widths=0.6)\n",
    "bpr = plt.boxplot(port_grades, positions=np.array(range(len(port_grades)))*2.0+0.4, sym='', widths=0.6)\n",
    "set_box_color(bpl, '#D7191C')\n",
    "set_box_color(bpr, '#2C7BB6')\n",
    "\n",
    "plt.plot([], c='#D7191C', label='Math')\n",
    "plt.plot([], c='#2C7BB6', label='Port')\n",
    "plt.legend()\n",
    "\n",
    "plt.xticks(range(0, len(ticks) * 2, 2), ticks)\n",
    "plt.xlim(-2, len(ticks)*2)\n",
    "plt.tight_layout()"
   ]
  },
  {
   "cell_type": "markdown",
   "metadata": {},
   "source": [
    "Based on these boxplots we cannot say definitively but it looks like grades that students get in Math class in both schools is about the same. However, it seems like grades in Portuguese class in GP are better than in MS. To check this statement we would need to run a 2 sample hypothesis test."
   ]
  },
  {
   "cell_type": "markdown",
   "metadata": {},
   "source": [
    "### Absences distribution\n",
    "\n",
    "Let's check the distribution of the absences variable."
   ]
  },
  {
   "cell_type": "code",
   "execution_count": 21,
   "metadata": {},
   "outputs": [
    {
     "data": {
      "text/plain": [
       "{'whiskers': [<matplotlib.lines.Line2D at 0x1ac52c7afd0>,\n",
       "  <matplotlib.lines.Line2D at 0x1ac52c87438>],\n",
       " 'caps': [<matplotlib.lines.Line2D at 0x1ac52c87860>,\n",
       "  <matplotlib.lines.Line2D at 0x1ac52c87c88>],\n",
       " 'boxes': [<matplotlib.lines.Line2D at 0x1ac52c7aac8>],\n",
       " 'medians': [<matplotlib.lines.Line2D at 0x1ac52c87d68>],\n",
       " 'fliers': [<matplotlib.lines.Line2D at 0x1ac52c90518>],\n",
       " 'means': []}"
      ]
     },
     "execution_count": 21,
     "metadata": {},
     "output_type": "execute_result"
    },
    {
     "data": {
      "image/png": "[encoded data removed]",
      "text/plain": [
       "<Figure size 432x288 with 2 Axes>"
      ]
     },
     "metadata": {
      "needs_background": "light"
     },
     "output_type": "display_data"
    }
   ],
   "source": [
    "fig, axs = plt.subplots(2, 1, tight_layout=False)\n",
    "axs[0].hist(population['absences'], bins=40, edgecolor='black', linewidth=1)\n",
    "axs[1].boxplot(population['absences'], vert=False)"
   ]
  },
  {
   "cell_type": "code",
   "execution_count": 22,
   "metadata": {},
   "outputs": [
    {
     "data": {
      "text/plain": [
       "count       1044.000000\n",
       "mean           4.434866\n",
       "std            6.207042\n",
       "min            0.000000\n",
       "25%            0.000000\n",
       "50%            2.000000\n",
       "75%            6.000000\n",
       "max           75.000000\n",
       "mode           0.000000\n",
       "median         2.000000\n",
       "skew           3.735969\n",
       "kurtosis      26.463253\n",
       "Name: absences, dtype: float64"
      ]
     },
     "execution_count": 22,
     "metadata": {},
     "output_type": "execute_result"
    }
   ],
   "source": [
    "describe(population['absences'])"
   ]
  },
  {
   "cell_type": "markdown",
   "metadata": {},
   "source": [
    "Absences distribution is right skewed with a few extreme outliers that is indicated by 3 factors: shape of the histogram, skewness coefficient > 0, and mode < median < mean. This means that most of the students do not miss school or miss only a few days that is expected."
   ]
  },
  {
   "cell_type": "markdown",
   "metadata": {},
   "source": [
    "### Correlation between final grade and absences"
   ]
  },
  {
   "cell_type": "code",
   "execution_count": 23,
   "metadata": {},
   "outputs": [
    {
     "data": {
      "text/plain": [
       "<matplotlib.collections.PathCollection at 0x1ac52cfee80>"
      ]
     },
     "execution_count": 23,
     "metadata": {},
     "output_type": "execute_result"
    },
    {
     "data": {
      "image/png": "[encoded data removed]",
      "text/plain": [
       "<Figure size 432x288 with 1 Axes>"
      ]
     },
     "metadata": {
      "needs_background": "light"
     },
     "output_type": "display_data"
    }
   ],
   "source": [
    "plt.scatter(population['absences'], population['G3'])"
   ]
  },
  {
   "cell_type": "markdown",
   "metadata": {},
   "source": [
    "Absences variable is not normally distributed so we cannot use Pearson correlation that only works on normally distributed variables. However, Spearman coefficient doesn't make this assumption so we can use it to determine if there is a correlation."
   ]
  },
  {
   "cell_type": "code",
   "execution_count": 24,
   "metadata": {},
   "outputs": [
    {
     "name": "stdout",
     "output_type": "stream",
     "text": [
      "r =  -0.1090\n",
      "p-value = 0.0004198276\n"
     ]
    }
   ],
   "source": [
    "r, p_value = stats.spearmanr(population['absences'], population['G3'])\n",
    "print(\"r = %8.4f\" % r)\n",
    "print(\"p-value = %8.10f\" % p_value)"
   ]
  },
  {
   "cell_type": "markdown",
   "metadata": {},
   "source": [
    "Null hypothesis for `stats.spearmanr` is that there is no correlation between variables. $pvalue < 0.05$ indicates that we reject the null hypothesis and there is evidence to suggest that there is a correlation between final grade and absences. $r<0$ and $|r|$ is small suggests that there is **weak negative correlation**. Students who skip school more often tend to get lower grades than students who don't."
   ]
  },
  {
   "cell_type": "markdown",
   "metadata": {},
   "source": [
    "### Compare male and female students by class\n",
    "\n",
    "Let's compare counts of male and female students by class. Is there a correlation between class and sex?"
   ]
  },
  {
   "cell_type": "code",
   "execution_count": 25,
   "metadata": {},
   "outputs": [
    {
     "data": {
      "image/png": "[encoded data removed]",
      "text/plain": [
       "<Figure size 432x288 with 1 Axes>"
      ]
     },
     "metadata": {
      "needs_background": "light"
     },
     "output_type": "display_data"
    }
   ],
   "source": [
    "counts_f = population[population['sex'] == \"F\"][\"subject\"].value_counts().values\n",
    "counts_m = population[population['sex'] == \"M\"][\"subject\"].value_counts().values\n",
    "\n",
    "index = np.arange(2)\n",
    "bar_width = 0.35\n",
    "opacity = 0.3\n",
    " \n",
    "rects1 = plt.bar(index, counts_f, bar_width,\n",
    "                 alpha=opacity,\n",
    "                 color='blue',\n",
    "                 label='Female')\n",
    " \n",
    "rects2 = plt.bar(index+bar_width, counts_m, bar_width,\n",
    "                 alpha=opacity,\n",
    "                 color='red',\n",
    "                 label='Male')\n",
    " \n",
    "plt.ylabel('Count')\n",
    "plt.xticks(index + 0.5*bar_width, ('Math', 'Portuguese'))\n",
    "plt.legend()\n",
    " \n",
    "plt.tight_layout()\n",
    "plt.show()"
   ]
  },
  {
   "cell_type": "markdown",
   "metadata": {},
   "source": [
    "This chart tells that there are more female students in Math and Portugese classes than male students. It looks like there are more females in this dataset than males."
   ]
  },
  {
   "cell_type": "markdown",
   "metadata": {},
   "source": [
    "## Confidence Intervals"
   ]
  },
  {
   "cell_type": "markdown",
   "metadata": {},
   "source": [
    "In this section I am goind to construct a few confidence intervals. First, let's create a sample of 95 records and save it as a separate file. I implemented a function `get_sample()` that will return a saved sample if file exists or generate new sample and save it in \"data/sample.csv\" file."
   ]
  },
  {
   "cell_type": "code",
   "execution_count": 26,
   "metadata": {},
   "outputs": [
    {
     "name": "stdout",
     "output_type": "stream",
     "text": [
      "Reading sample from the file.\n",
      "Here is a first 5 records from the sample:\n"
     ]
    },
    {
     "data": {
      "text/html": [
       "<div>\n",
       "<style scoped>\n",
       "    .dataframe tbody tr th:only-of-type {\n",
       "        vertical-align: middle;\n",
       "    }\n",
       "\n",
       "    .dataframe tbody tr th {\n",
       "        vertical-align: top;\n",
       "    }\n",
       "\n",
       "    .dataframe thead th {\n",
       "        text-align: right;\n",
       "    }\n",
       "</style>\n",
       "<table border=\"1\" class=\"dataframe\">\n",
       "  <thead>\n",
       "    <tr style=\"text-align: right;\">\n",
       "      <th></th>\n",
       "      <th>Unnamed: 0</th>\n",
       "      <th>ID</th>\n",
       "      <th>school</th>\n",
       "      <th>sex</th>\n",
       "      <th>age</th>\n",
       "      <th>address</th>\n",
       "      <th>famsize</th>\n",
       "      <th>Pstatus</th>\n",
       "      <th>Medu</th>\n",
       "      <th>Fedu</th>\n",
       "      <th>...</th>\n",
       "      <th>freetime</th>\n",
       "      <th>goout</th>\n",
       "      <th>Dalc</th>\n",
       "      <th>Walc</th>\n",
       "      <th>health</th>\n",
       "      <th>absences</th>\n",
       "      <th>G1</th>\n",
       "      <th>G2</th>\n",
       "      <th>G3</th>\n",
       "      <th>subject</th>\n",
       "    </tr>\n",
       "  </thead>\n",
       "  <tbody>\n",
       "    <tr>\n",
       "      <th>0</th>\n",
       "      <td>496</td>\n",
       "      <td>497</td>\n",
       "      <td>GP</td>\n",
       "      <td>F</td>\n",
       "      <td>18</td>\n",
       "      <td>U</td>\n",
       "      <td>GT3</td>\n",
       "      <td>T</td>\n",
       "      <td>1</td>\n",
       "      <td>1</td>\n",
       "      <td>...</td>\n",
       "      <td>4</td>\n",
       "      <td>4</td>\n",
       "      <td>1</td>\n",
       "      <td>1</td>\n",
       "      <td>4</td>\n",
       "      <td>0</td>\n",
       "      <td>12</td>\n",
       "      <td>13</td>\n",
       "      <td>13</td>\n",
       "      <td>port</td>\n",
       "    </tr>\n",
       "    <tr>\n",
       "      <th>1</th>\n",
       "      <td>786</td>\n",
       "      <td>787</td>\n",
       "      <td>GP</td>\n",
       "      <td>M</td>\n",
       "      <td>17</td>\n",
       "      <td>R</td>\n",
       "      <td>GT3</td>\n",
       "      <td>T</td>\n",
       "      <td>2</td>\n",
       "      <td>1</td>\n",
       "      <td>...</td>\n",
       "      <td>4</td>\n",
       "      <td>2</td>\n",
       "      <td>2</td>\n",
       "      <td>4</td>\n",
       "      <td>5</td>\n",
       "      <td>0</td>\n",
       "      <td>12</td>\n",
       "      <td>12</td>\n",
       "      <td>13</td>\n",
       "      <td>port</td>\n",
       "    </tr>\n",
       "    <tr>\n",
       "      <th>2</th>\n",
       "      <td>197</td>\n",
       "      <td>198</td>\n",
       "      <td>GP</td>\n",
       "      <td>M</td>\n",
       "      <td>19</td>\n",
       "      <td>U</td>\n",
       "      <td>LE3</td>\n",
       "      <td>A</td>\n",
       "      <td>4</td>\n",
       "      <td>3</td>\n",
       "      <td>...</td>\n",
       "      <td>3</td>\n",
       "      <td>1</td>\n",
       "      <td>1</td>\n",
       "      <td>1</td>\n",
       "      <td>1</td>\n",
       "      <td>4</td>\n",
       "      <td>11</td>\n",
       "      <td>13</td>\n",
       "      <td>14</td>\n",
       "      <td>port</td>\n",
       "    </tr>\n",
       "    <tr>\n",
       "      <th>3</th>\n",
       "      <td>933</td>\n",
       "      <td>934</td>\n",
       "      <td>GP</td>\n",
       "      <td>F</td>\n",
       "      <td>15</td>\n",
       "      <td>R</td>\n",
       "      <td>GT3</td>\n",
       "      <td>T</td>\n",
       "      <td>1</td>\n",
       "      <td>1</td>\n",
       "      <td>...</td>\n",
       "      <td>1</td>\n",
       "      <td>2</td>\n",
       "      <td>1</td>\n",
       "      <td>1</td>\n",
       "      <td>1</td>\n",
       "      <td>2</td>\n",
       "      <td>7</td>\n",
       "      <td>10</td>\n",
       "      <td>10</td>\n",
       "      <td>math</td>\n",
       "    </tr>\n",
       "    <tr>\n",
       "      <th>4</th>\n",
       "      <td>609</td>\n",
       "      <td>610</td>\n",
       "      <td>GP</td>\n",
       "      <td>M</td>\n",
       "      <td>16</td>\n",
       "      <td>U</td>\n",
       "      <td>GT3</td>\n",
       "      <td>T</td>\n",
       "      <td>1</td>\n",
       "      <td>3</td>\n",
       "      <td>...</td>\n",
       "      <td>3</td>\n",
       "      <td>3</td>\n",
       "      <td>1</td>\n",
       "      <td>4</td>\n",
       "      <td>2</td>\n",
       "      <td>2</td>\n",
       "      <td>9</td>\n",
       "      <td>8</td>\n",
       "      <td>8</td>\n",
       "      <td>port</td>\n",
       "    </tr>\n",
       "  </tbody>\n",
       "</table>\n",
       "<p>5 rows × 36 columns</p>\n",
       "</div>"
      ],
      "text/plain": [
       "   Unnamed: 0   ID school sex  age address famsize Pstatus  Medu  Fedu  \\\n",
       "0         496  497     GP   F   18       U     GT3       T     1     1   \n",
       "1         786  787     GP   M   17       R     GT3       T     2     1   \n",
       "2         197  198     GP   M   19       U     LE3       A     4     3   \n",
       "3         933  934     GP   F   15       R     GT3       T     1     1   \n",
       "4         609  610     GP   M   16       U     GT3       T     1     3   \n",
       "\n",
       "    ...   freetime goout Dalc Walc  health  absences  G1  G2  G3 subject  \n",
       "0   ...          4     4    1    1       4         0  12  13  13    port  \n",
       "1   ...          4     2    2    4       5         0  12  12  13    port  \n",
       "2   ...          3     1    1    1       1         4  11  13  14    port  \n",
       "3   ...          1     2    1    1       1         2   7  10  10    math  \n",
       "4   ...          3     3    1    4       2         2   9   8   8    port  \n",
       "\n",
       "[5 rows x 36 columns]"
      ]
     },
     "execution_count": 26,
     "metadata": {},
     "output_type": "execute_result"
    }
   ],
   "source": [
    "sample_file = 'data/sample.csv'\n",
    "\n",
    "def get_sample(sample_file, n=95):\n",
    "    if path.isfile(sample_file):\n",
    "        print('Reading sample from the file.')\n",
    "        sample = pd.read_csv(sample_file)\n",
    "        return sample\n",
    "    print('Generating new sample.')\n",
    "    sample = population.sample(n)\n",
    "    sample.to_csv(sample_file)\n",
    "    return sample\n",
    "\n",
    "sample = get_sample(sample_file)\n",
    "print('Here is a first 5 records from the sample:')\n",
    "sample.head()"
   ]
  },
  {
   "cell_type": "markdown",
   "metadata": {},
   "source": [
    "Here I define some helper functions to draw distributions with mean and confidence interval."
   ]
  },
  {
   "cell_type": "code",
   "execution_count": 27,
   "metadata": {},
   "outputs": [],
   "source": [
    "def plot_ci_t(x_bar, s, df, n, ci_low, ci_high, mu, x_min=0.05, x_max=0.95):\n",
    "    fig, ax = plt.subplots(1, 1)\n",
    "    x = np.linspace(x_bar+stats.t.ppf(x_min, df), x_bar+stats.t.ppf(x_max, df), 1000)\n",
    "    ax.plot(x, stats.t.pdf((x-x_bar)*math.sqrt(n)/s, df))\n",
    "    \n",
    "    ax.axvline(x=ci_low, color=\"red\", lw=1)\n",
    "    ax.axvline(x=ci_high, color=\"red\", lw=1)\n",
    "    ax.axvline(x=x_bar, color=\"green\", linestyle=\"--\", lw=1, label='x_bar')\n",
    "    ax.plot([mu], [0], marker='o', markersize=3, linestyle=\"\", color=\"black\", label=\"mu\")\n",
    "    ax.legend(loc='best')\n",
    "\n",
    "def plot_ci_p(p, n, ci_low, ci_high, mu, x_min=0.05, x_max=0.95):\n",
    "    fig, ax = plt.subplots(1, 1)\n",
    "    x = np.linspace(p+stats.norm.ppf(x_min), p+stats.norm.ppf(x_max), 1000)\n",
    "    ax.plot(x, stats.norm.pdf((x-p)*math.sqrt(n/(p*(1-p)))))\n",
    "    \n",
    "    ax.axvline(x=ci_low, color=\"red\", lw=1)\n",
    "    ax.axvline(x=ci_high, color=\"red\", lw=1)\n",
    "    ax.axvline(x=p, color=\"green\", linestyle=\"--\", lw=1, label='p_hat')\n",
    "    ax.plot([mu], [0], marker='o', markersize=3, linestyle=\"\", color=\"black\", label=\"p\")\n",
    "    ax.legend(loc='best')"
   ]
  },
  {
   "cell_type": "markdown",
   "metadata": {},
   "source": [
    "### 1. A 90% confidence interval for the age of the students"
   ]
  },
  {
   "cell_type": "markdown",
   "metadata": {},
   "source": [
    "I am constructing a 90% confidence interval for the mean student age. Considering that population standard deviation $\\sigma$ is unknown I should use a t-distribution. Confidence interval is calculated by the formula $$\\bar{x} \\pm t_{\\alpha/2}(\\frac{s}{\\sqrt{n}}), \\space\\space n > 30 \\space\\space\\text{(1)}$$.\n",
    "\n",
    "Let's calculate sample mean, sample standart deviation, and critical value $t_{\\alpha/2}$. I am going to use function `describe()` defined in the begining of the document with paramenter `isSample=True`."
   ]
  },
  {
   "cell_type": "code",
   "execution_count": 28,
   "metadata": {},
   "outputs": [
    {
     "name": "stdout",
     "output_type": "stream",
     "text": [
      "x_bar = 16.6526\n",
      "s = 1.2613\n",
      "alpha = 0.10\n",
      "n = 95\n",
      "df = 94\n",
      "t_alpha_2 = -1.6612\n"
     ]
    }
   ],
   "source": [
    "age_stats = describe(sample['age'], isSample=True)\n",
    "\n",
    "x_bar = age_stats['mean']\n",
    "s = age_stats['std']\n",
    "alpha = 0.1\n",
    "n = sample.shape[0]\n",
    "df = n - 1\n",
    "t_alpha_2 = stats.t.ppf(alpha/2, df)\n",
    "\n",
    "print(\"x_bar = %2.4f\" % round(x_bar,4))\n",
    "print(\"s = %2.4f\" % round(s,4))\n",
    "print(\"alpha = %2.2f\" % alpha)\n",
    "print(\"n = %d\" % n)\n",
    "print(\"df = %d\" % df)\n",
    "print(\"t_alpha_2 = %2.4f\" % round(t_alpha_2,4))"
   ]
  },
  {
   "cell_type": "markdown",
   "metadata": {},
   "source": [
    "Now, I can calculate margin of error and confidence interval using formula (1)."
   ]
  },
  {
   "cell_type": "code",
   "execution_count": 29,
   "metadata": {},
   "outputs": [
    {
     "name": "stdout",
     "output_type": "stream",
     "text": [
      "Margin of error is 0.2150\n",
      "Confidence interval is (16.4377, 16.8676)\n"
     ]
    }
   ],
   "source": [
    "margin_error = abs(t_alpha_2 * s / math.sqrt(n))\n",
    "ci_low = x_bar - margin_error\n",
    "ci_high = x_bar + margin_error\n",
    "\n",
    "print(\"Margin of error is %2.4f\" % round(margin_error,4))\n",
    "print(\"Confidence interval is (%2.4f, %2.4f)\" % (round(ci_low,4), round(ci_high,4)))"
   ]
  },
  {
   "cell_type": "markdown",
   "metadata": {},
   "source": [
    "We are 90% confident that the true mean of the student age in math and Portuguese language courses in a secondary school is between 16.4377 and 16.8676.\n",
    "\n",
    "Now let's check if the actual population mean lies in this interval."
   ]
  },
  {
   "cell_type": "code",
   "execution_count": 30,
   "metadata": {},
   "outputs": [
    {
     "name": "stdout",
     "output_type": "stream",
     "text": [
      "Population mean = 16.7261\n"
     ]
    },
    {
     "data": {
      "image/png": "[encoded data removed]",
      "text/plain": [
       "<Figure size 432x288 with 1 Axes>"
      ]
     },
     "metadata": {
      "needs_background": "light"
     },
     "output_type": "display_data"
    }
   ],
   "source": [
    "age_pop_stats = describe(population['age'])\n",
    "mean = age_pop_stats['mean']\n",
    "print(\"Population mean = %2.4f\" % round(mean,4))\n",
    "\n",
    "plot_ci_t(x_bar, s, df, n, ci_low, ci_high, mean, 0.3, 0.7)"
   ]
  },
  {
   "cell_type": "markdown",
   "metadata": {},
   "source": [
    "$16.4377 < 16.7261 < 16.8676$ so the true population mean of age of the students lies within the 90% confidence interval."
   ]
  },
  {
   "cell_type": "markdown",
   "metadata": {},
   "source": [
    "### 2.\tA 99% confidence interval for the final grade (G3)"
   ]
  },
  {
   "cell_type": "markdown",
   "metadata": {},
   "source": [
    "Now let's compute the 99% confidence interval for the mean student's grade. We are going to use the same sample. \n",
    "\n",
    "We should assume that population standard deviation is unknown so we need to use Student's t distribution with confidence interval calculated by formula (1). Let's calculate G3 statistics need to use the formula."
   ]
  },
  {
   "cell_type": "code",
   "execution_count": 31,
   "metadata": {},
   "outputs": [
    {
     "name": "stdout",
     "output_type": "stream",
     "text": [
      "x_bar = 11.1263\n",
      "s = 3.9363\n",
      "alpha = 0.01\n",
      "n = 95\n",
      "df = 94\n",
      "t_alpha_2 = -2.6291\n"
     ]
    }
   ],
   "source": [
    "g3_stats = describe(sample['G3'], isSample=True)\n",
    "\n",
    "x_bar = g3_stats['mean']\n",
    "s = g3_stats['std']\n",
    "alpha = 0.01\n",
    "n = sample.shape[0]\n",
    "df = n - 1\n",
    "t_alpha_2 = stats.t.ppf(alpha/2, df)\n",
    "\n",
    "print(\"x_bar = %2.4f\" % x_bar)\n",
    "print(\"s = %2.4f\" % s)\n",
    "print(\"alpha = %2.2f\" % alpha)\n",
    "print(\"n = %d\" % n)\n",
    "print(\"df = %d\" % df)\n",
    "print(\"t_alpha_2 = %2.4f\" % t_alpha_2)"
   ]
  },
  {
   "cell_type": "markdown",
   "metadata": {},
   "source": [
    "Using the formula (1) we can calculate margin of error and confidence interval."
   ]
  },
  {
   "cell_type": "code",
   "execution_count": 32,
   "metadata": {},
   "outputs": [
    {
     "name": "stdout",
     "output_type": "stream",
     "text": [
      "Margin of error is 1.0618\n",
      "Confidence interval is (10.0645, 12.1881)\n"
     ]
    }
   ],
   "source": [
    "margin_error = abs(t_alpha_2 * s / math.sqrt(n))\n",
    "ci_low = x_bar - margin_error\n",
    "ci_high = x_bar + margin_error\n",
    "\n",
    "print(\"Margin of error is %2.4f\" % margin_error)\n",
    "print(\"Confidence interval is (%2.4f, %2.4f)\" % (ci_low, ci_high))"
   ]
  },
  {
   "cell_type": "markdown",
   "metadata": {},
   "source": [
    "We are 99% confident that the true population mean of students final grade falls within (10.0645, 12.1881).\n",
    "\n",
    "Let's check if this holds for our population mean."
   ]
  },
  {
   "cell_type": "code",
   "execution_count": 33,
   "metadata": {},
   "outputs": [
    {
     "name": "stdout",
     "output_type": "stream",
     "text": [
      "Population mean mu = 11.3420\n"
     ]
    },
    {
     "data": {
      "image/png": "[encoded data removed]",
      "text/plain": [
       "<Figure size 432x288 with 1 Axes>"
      ]
     },
     "metadata": {
      "needs_background": "light"
     },
     "output_type": "display_data"
    }
   ],
   "source": [
    "g3_pop_stats = describe(population['G3'])\n",
    "mean = g3_pop_stats['mean']\n",
    "print(\"Population mean mu = %2.4f\" % mean)\n",
    "\n",
    "plot_ci_t(x_bar, s, df, n, ci_low, ci_high, mean)"
   ]
  },
  {
   "cell_type": "markdown",
   "metadata": {},
   "source": [
    "And we see that true population mean of final grades falls into the 99% confidence interval."
   ]
  },
  {
   "cell_type": "markdown",
   "metadata": {},
   "source": [
    "### 3.\tA 95% confidence interval for the number of absences students have."
   ]
  },
  {
   "cell_type": "markdown",
   "metadata": {},
   "source": [
    "Let's compute the 95% confidence interval for the mean number of absences students have. We are going to use 'absences' variable. As in previous examples we are going to use Student's t distribution and formula (1). "
   ]
  },
  {
   "cell_type": "code",
   "execution_count": 34,
   "metadata": {},
   "outputs": [
    {
     "name": "stdout",
     "output_type": "stream",
     "text": [
      "x_bar = 4.4105\n",
      "s = 4.8542\n",
      "alpha = 0.05\n",
      "n = 95\n",
      "df = 94\n",
      "t_alpha_2 = -1.9855\n"
     ]
    }
   ],
   "source": [
    "abs_stats = describe(sample['absences'], isSample=True)\n",
    "\n",
    "x_bar = abs_stats['mean']\n",
    "s = abs_stats['std']\n",
    "alpha = 0.05\n",
    "n = sample.shape[0]\n",
    "df = n - 1\n",
    "t_alpha_2 = stats.t.ppf(alpha/2, df)\n",
    "\n",
    "print(\"x_bar = %2.4f\" % x_bar)\n",
    "print(\"s = %2.4f\" % s)\n",
    "print(\"alpha = %2.2f\" % alpha)\n",
    "print(\"n = %d\" % n)\n",
    "print(\"df = %d\" % df)\n",
    "print(\"t_alpha_2 = %2.4f\" % t_alpha_2)"
   ]
  },
  {
   "cell_type": "code",
   "execution_count": 35,
   "metadata": {},
   "outputs": [
    {
     "name": "stdout",
     "output_type": "stream",
     "text": [
      "Margin of error is 0.9889\n",
      "Confidence interval is (3.4217, 5.3994)\n"
     ]
    }
   ],
   "source": [
    "margin_error = abs(t_alpha_2 * s / math.sqrt(n))\n",
    "ci_low = x_bar - margin_error\n",
    "ci_high = x_bar + margin_error\n",
    "\n",
    "print(\"Margin of error is %2.4f\" % margin_error)\n",
    "print(\"Confidence interval is (%2.4f, %2.4f)\" % (ci_low, ci_high))"
   ]
  },
  {
   "cell_type": "markdown",
   "metadata": {},
   "source": [
    "We are 95% confident that the true mean of student's absences in math and Portuguese language classes is between 3.4217 and 5.3994. Let's check if true population mean falls into this interval in our case."
   ]
  },
  {
   "cell_type": "code",
   "execution_count": 37,
   "metadata": {},
   "outputs": [
    {
     "name": "stdout",
     "output_type": "stream",
     "text": [
      "Population mean = 4.4349\n"
     ]
    },
    {
     "data": {
      "image/png": "[encoded data removed]",
      "text/plain": [
       "<Figure size 432x288 with 1 Axes>"
      ]
     },
     "metadata": {
      "needs_background": "light"
     },
     "output_type": "display_data"
    }
   ],
   "source": [
    "abs_pop_stats = describe(population['absences'])\n",
    "mean = abs_pop_stats['mean']\n",
    "print(\"Population mean = %2.4f\" % mean)\n",
    "\n",
    "plot_ci_t(x_bar,s, df, n, ci_low, ci_high, mean)"
   ]
  },
  {
   "cell_type": "markdown",
   "metadata": {},
   "source": [
    "In this case true population mean of number of absences that students have falls within the 95% confidence interval."
   ]
  },
  {
   "cell_type": "markdown",
   "metadata": {},
   "source": [
    "### 4. Confidence interval of your choise\n",
    "### 95% confidence interval of proportion of students with family size greater than 3"
   ]
  },
  {
   "cell_type": "markdown",
   "metadata": {},
   "source": [
    "I am going to use the proportion confidence interval formula.\n",
    "$$\\hat{p} \\pm z_{\\alpha/2}\\sqrt{\\frac{\\hat{p}(1-\\hat{p})}{n}} \\space\\space\\text{(2)} $$\n",
    "\n",
    "$\\hat{p}$ is a sample proportion.\n",
    "\n",
    "I also need to check normality by checking the following inequations:\n",
    "$$n_{sample} \\leq 0.1 n_{population} \\space\\space \\text{(3)}$$\n",
    "$$n_{sample}*p \\geq 10 \\space\\space \\text{and} \\space\\space n_{sample}*(1-p) \\geq 10 \\space\\space \\text{(4)}$$\n"
   ]
  },
  {
   "cell_type": "markdown",
   "metadata": {},
   "source": [
    "Let's start by calculating sample proportion $\\hat{p}$."
   ]
  },
  {
   "cell_type": "code",
   "execution_count": 38,
   "metadata": {},
   "outputs": [
    {
     "name": "stdout",
     "output_type": "stream",
     "text": [
      "Number of students with families more than 3 is 69 .\n",
      "p_hat = 0.7263\n"
     ]
    }
   ],
   "source": [
    "n = 95\n",
    "n_gt3 = sample[sample[\"famsize\"] == \"GT3\"].shape[0]\n",
    "p_hat = n_gt3/n\n",
    "\n",
    "print(\"Number of students with families more than 3 is %d .\" % n_gt3)\n",
    "print(\"p_hat = %1.4f\" % p_hat)"
   ]
  },
  {
   "cell_type": "markdown",
   "metadata": {},
   "source": [
    "Let's check the normality conditions."
   ]
  },
  {
   "cell_type": "code",
   "execution_count": 39,
   "metadata": {},
   "outputs": [
    {
     "name": "stdout",
     "output_type": "stream",
     "text": [
      "Condition (3): 95 < 0.1*1044\n",
      "Condition (4): n*p = 69, n*(1-p) = 26, both are greater than 10\n"
     ]
    }
   ],
   "source": [
    "print(\"Condition (3): %d < 0.1*%d\" % (n, population.shape[0]))\n",
    "print(\"Condition (4): n*p = %d, n*(1-p) = %d, both are greater than 10\" % (n*p_hat, round(n*(1-p_hat))))"
   ]
  },
  {
   "cell_type": "markdown",
   "metadata": {},
   "source": [
    "Conditions are satisfied. Now I can calculate 95% confidence interval and margin of error using formula (2)."
   ]
  },
  {
   "cell_type": "code",
   "execution_count": 40,
   "metadata": {},
   "outputs": [
    {
     "name": "stdout",
     "output_type": "stream",
     "text": [
      "z_alpha_2 = -1.96\n",
      "Margin of error is 0.0897\n",
      "Confidence interval is (0.6366, 0.8160)\n"
     ]
    }
   ],
   "source": [
    "alpha = 0.05\n",
    "z_alpha_2 = stats.norm.ppf(alpha/2)\n",
    "\n",
    "print(\"z_alpha_2 = %1.2f\" % round(z_alpha_2, 4))\n",
    "\n",
    "margin_error = round(abs(z_alpha_2)*math.sqrt(p_hat*(1-p_hat)/n), 4)\n",
    "ci_low = round(p_hat - margin_error, 4)\n",
    "ci_high = round(p_hat + margin_error, 4)\n",
    "\n",
    "print(\"Margin of error is %2.4f\" % round(margin_error, 4))\n",
    "print(\"Confidence interval is (%2.4f, %2.4f)\" % (round(ci_low,4), round(ci_high,4)))"
   ]
  },
  {
   "cell_type": "markdown",
   "metadata": {},
   "source": [
    "We are 95% confident that the true proportion of students who live in a family of more than 3 falls between 63.66% and 81.60%. \n",
    "\n",
    "Let's find a population proportion and check if it lies in the 95% confidence interval."
   ]
  },
  {
   "cell_type": "code",
   "execution_count": 41,
   "metadata": {},
   "outputs": [
    {
     "name": "stdout",
     "output_type": "stream",
     "text": [
      "Population proportion p = 70.69%\n"
     ]
    },
    {
     "data": {
      "image/png": "[encoded data removed]",
      "text/plain": [
       "<Figure size 432x288 with 1 Axes>"
      ]
     },
     "metadata": {
      "needs_background": "light"
     },
     "output_type": "display_data"
    }
   ],
   "source": [
    "n_pop_gt3 = population[population[\"famsize\"] == \"GT3\"].shape[0]\n",
    "p = n_pop_gt3/population.shape[0]\n",
    "print(\"Population proportion p = %2.2f%%\" % (round(p,4)*100))\n",
    "\n",
    "plot_ci_p(p_hat, n, ci_low, ci_high, p, x_min=0.45, x_max=0.55)"
   ]
  },
  {
   "cell_type": "markdown",
   "metadata": {},
   "source": [
    "True population proportion of students with family size greater than 3 falls within the 95% confidence interval."
   ]
  },
  {
   "cell_type": "markdown",
   "metadata": {},
   "source": [
    "## Hypothesis Tests"
   ]
  },
  {
   "cell_type": "markdown",
   "metadata": {},
   "source": [
    "Let's start with defining few helper functions for this section.\n",
    "\n",
    "`get_stats` - returns basic statistics for the sample\n",
    "\n",
    "`get_dof` - returns degree of freedom calculated by Welch-Satterthwaite formula\n",
    "\n",
    "`plot_hypo_t` - plots a distribution with vertical lines for critical values and test statistic"
   ]
  },
  {
   "cell_type": "code",
   "execution_count": 42,
   "metadata": {},
   "outputs": [],
   "source": [
    "def get_stats(sample):\n",
    "    n = sample.shape[0]\n",
    "    mean = sample.mean()\n",
    "    std = sample.std()\n",
    "    return n, mean, std\n",
    "\n",
    "def get_dof(x, y): \n",
    "    ## Welch-Satterthwaite degrees of freedom\n",
    "    dof = (x.var()/x.size + y.var()/y.size)**2 / ((x.var()/x.size)**2 / (x.size-1) + (y.var()/y.size)**2 / (y.size-1))\n",
    "    return dof\n",
    "\n",
    "def plot_hypo_t(x_bar, t, t_alpha, x_min=0.01, x_max=0.99, two_tail=False):\n",
    "    fig, ax = plt.subplots(1, 1)\n",
    "    x = np.linspace(x_bar+stats.t.ppf(x_min, df), x_bar+stats.t.ppf(x_max, df), 1000)\n",
    "    ax.plot(x, stats.t.pdf(x, df))\n",
    "    \n",
    "    ax.axvline(x=t_alpha, color=\"red\", lw=1, label='Critical Value')\n",
    "    \n",
    "    if two_tail :\n",
    "        ax.axvline(x = -1*t_alpha, color=\"red\", lw=1)\n",
    "\n",
    "    ax.axvline(x=t, color=\"green\", linestyle=\"--\", lw=1, label='Test Statistic')\n",
    "    ax.legend(loc='best')"
   ]
  },
  {
   "cell_type": "markdown",
   "metadata": {},
   "source": [
    "### 1.\tDo students whose parents live together (Pstatus) get better grades (alpha = 0.05)?"
   ]
  },
  {
   "cell_type": "markdown",
   "metadata": {},
   "source": [
    "Let's get 2 samples and calcualte basic statistics."
   ]
  },
  {
   "cell_type": "code",
   "execution_count": 43,
   "metadata": {},
   "outputs": [
    {
     "name": "stdout",
     "output_type": "stream",
     "text": [
      "Sample statistics for students whose parents live together:\n",
      "n_t = 82\n",
      "x_bar_t = 10.8537\n",
      "s_t = 4.0096\n",
      "Sample statistics for students whose parents live apart:\n",
      "n_a = 13\n",
      "x_bar_a = 12.8462\n",
      "s_a = 3.0234\n"
     ]
    }
   ],
   "source": [
    "g3_together = sample[sample['Pstatus'] == 'T']['G3']\n",
    "g3_apart = sample[sample['Pstatus'] == 'A']['G3']\n",
    "\n",
    "n_t, x_t, s_t = get_stats(g3_together)\n",
    "n_a, x_a, s_a = get_stats(g3_apart)\n",
    "\n",
    "print(\"Sample statistics for students whose parents live together:\")\n",
    "print(\"n_t = %d\" % n_t)\n",
    "print(\"x_bar_t = %4.4f\" % x_t)\n",
    "print(\"s_t = %4.4f\" % s_t)\n",
    "\n",
    "print(\"Sample statistics for students whose parents live apart:\")\n",
    "print(\"n_a = %d\" % n_a)\n",
    "print(\"x_bar_a = %4.4f\" % x_a)\n",
    "print(\"s_a = %4.4f\" % s_a)"
   ]
  },
  {
   "cell_type": "markdown",
   "metadata": {},
   "source": [
    "In this sample mean grade of students whose parents live apart is higher than of students whose parents live together so it makes sense to check if students whose parents live apart get better grades."
   ]
  },
  {
   "cell_type": "markdown",
   "metadata": {},
   "source": [
    "$H_0: \\mu_t - \\mu_a = 0$ \n",
    "\n",
    "$H_a: \\mu_t - \\mu_a < 0$\n",
    "\n",
    "$\\alpha = 0.05$\n",
    "\n",
    "Population standard deviation is assumed to be unknown and to be conservative I assume unequal variance. Then we are going to use Student's t-distribution and calculate the test statistics using following formula:\n",
    "\n",
    "$$t = \\frac{\\bar{x_t} - \\bar{x_a}}{\\sqrt{\\frac{s_t^2}{n_t} + \\frac{s_a^2}{n_a}}}$$\n",
    "\n",
    "Degree of freedom is calculated using Welch–Satterthwaite equation.\n",
    "\n",
    "I am going to use [scipy.stats.ttest_ind](https://docs.scipy.org/doc/scipy/reference/generated/scipy.stats.ttest_ind.html) to perform the 2 sample t-test assuming unequal variance. Note that `tttest_ind` returns p-value for 2-sided test that needs to be devided by 2 in order to get 1-sided p-value."
   ]
  },
  {
   "cell_type": "code",
   "execution_count": 44,
   "metadata": {
    "scrolled": true
   },
   "outputs": [
    {
     "name": "stdout",
     "output_type": "stream",
     "text": [
      "t = -2.1012\n",
      "p-value 2 tailed = 0.0489\n",
      "p-value = 0.0245\n"
     ]
    }
   ],
   "source": [
    "t, p = stats.ttest_ind(g3_together, g3_apart, equal_var = False)\n",
    "print(\"t = %1.4f\" % round(t, 4))\n",
    "print(\"p-value 2 tailed = %1.4f\" % round(p, 4))\n",
    "print(\"p-value = %1.4f\" % round(p/2, 4))"
   ]
  },
  {
   "cell_type": "markdown",
   "metadata": {},
   "source": [
    "We know the test statistic and p-value, now, let's calculate $t_{\\alpha}$ critical value for one sided test. First, I will calculate the degree of freedom and then use it to calculate critical value."
   ]
  },
  {
   "cell_type": "code",
   "execution_count": 45,
   "metadata": {},
   "outputs": [
    {
     "name": "stdout",
     "output_type": "stream",
     "text": [
      "d.f. = 19.4015\n",
      "t_alpha = -1.7273\n"
     ]
    }
   ],
   "source": [
    "alpha = 0.05\n",
    "dof = get_dof(g3_together, g3_apart)\n",
    "t_alpha = stats.t.ppf(alpha, dof)\n",
    "\n",
    "print(\"d.f. = %3.4f\" % round(dof, 4))\n",
    "print(\"t_alpha = %1.4f\" % round(t_alpha, 4))"
   ]
  },
  {
   "cell_type": "markdown",
   "metadata": {},
   "source": [
    "Once we know our critical value let's plot a disribution."
   ]
  },
  {
   "cell_type": "code",
   "execution_count": 46,
   "metadata": {},
   "outputs": [
    {
     "data": {
      "image/png": "[encoded data removed]",
      "text/plain": [
       "<Figure size 432x288 with 1 Axes>"
      ]
     },
     "metadata": {
      "needs_background": "light"
     },
     "output_type": "display_data"
    }
   ],
   "source": [
    "plot_hypo_t(0, t, t_alpha)"
   ]
  },
  {
   "cell_type": "markdown",
   "metadata": {},
   "source": [
    "Test statistic $t$ falls into the rejection region so we reject the null hypothesis $H_0$. We can also perform the test using p-value, that is $pvalue = 0.0245$ and $0.0245 < \\alpha = 0.05$ so we reject the null hypothesis.\n",
    "\n",
    "We conclude that there is enough evidence to suggest that students whose parents live apart get better grades than student's whose parents live together at 5% significance level. Then the answer to the original question \"Do students whose parents live together (Pstatus) get better grades?\" is no."
   ]
  },
  {
   "cell_type": "markdown",
   "metadata": {},
   "source": [
    "### 2. Do students with internet access get better grades (alpha=0.01)?\n",
    "\n",
    "Let's create 2 samples for students with and without internet access and calculate basic statistics."
   ]
  },
  {
   "cell_type": "code",
   "execution_count": 47,
   "metadata": {},
   "outputs": [
    {
     "name": "stdout",
     "output_type": "stream",
     "text": [
      "Sample statistics of grades of students with internet access:\n",
      "n_1 = 74\n",
      "x_bar_1 = 11.0676\n",
      "s_1 = 4.1424\n",
      "Sample statistics of grades of students without internet access:\n",
      "n_2 = 21\n",
      "x_bar_2 = 11.3333\n",
      "s_2 = 3.1833\n"
     ]
    }
   ],
   "source": [
    "g3_int = sample[sample['internet'] == 'yes']['G3']\n",
    "g3_noint = sample[sample['internet'] == 'no']['G3']\n",
    "\n",
    "n_1, x_1, s_1 = get_stats(g3_int)\n",
    "n_2, x_2, s_2 = get_stats(g3_noint)\n",
    "\n",
    "print(\"Sample statistics of grades of students with internet access:\")\n",
    "print(\"n_1 = %d\" % n_1)\n",
    "print(\"x_bar_1 = %4.4f\" % x_1)\n",
    "print(\"s_1 = %4.4f\" % s_1)\n",
    "\n",
    "print(\"Sample statistics of grades of students without internet access:\")\n",
    "print(\"n_2 = %d\" % n_2)\n",
    "print(\"x_bar_2 = %4.4f\" % x_2)\n",
    "print(\"s_2 = %4.4f\" % s_2)"
   ]
  },
  {
   "cell_type": "markdown",
   "metadata": {},
   "source": [
    "Sample mean of students without internet access is higher than for students with internet access so it makes sense to perform the hypothesis test whether students without internet access has better grades than students with internet access.\n",
    "\n",
    "$H_0: \\mu_1 - \\mu_2 = 0$\n",
    "\n",
    "$H_a: \\mu_1 - \\mu_2 < 0$\n",
    "\n",
    "$\\alpha = 0.01$\n",
    "\n",
    "I assume that population standard deviation is unknown and that variances are unequal. Samples are independent so we can perform a 2 sample t-test.\n",
    "\n",
    "$$t = \\frac{\\bar{x_1} - \\bar{x_2}}{\\sqrt{\\frac{s_1^2}{n_1} + \\frac{s_2^2}{n_2}}}$$"
   ]
  },
  {
   "cell_type": "code",
   "execution_count": 48,
   "metadata": {},
   "outputs": [
    {
     "name": "stdout",
     "output_type": "stream",
     "text": [
      "t = -0.3144\n",
      "p-value 2 tailed = 0.7548\n",
      "p-value = 0.3774\n"
     ]
    }
   ],
   "source": [
    "t, p = stats.ttest_ind(g3_int, g3_noint, equal_var = False)\n",
    "print(\"t = %1.4f\" % round(t, 4))\n",
    "print(\"p-value 2 tailed = %1.4f\" % round(p, 4))\n",
    "print(\"p-value = %1.4f\" % round(p/2, 4))"
   ]
  },
  {
   "cell_type": "markdown",
   "metadata": {},
   "source": [
    "Test statistic $t$ and p-value are known, next, we calculate $t_{\\alpha}$ since this is a 1-tailed test."
   ]
  },
  {
   "cell_type": "code",
   "execution_count": 49,
   "metadata": {},
   "outputs": [
    {
     "name": "stdout",
     "output_type": "stream",
     "text": [
      "d.f. = 41.2323\n",
      "t_alpha = -2.4203\n"
     ]
    }
   ],
   "source": [
    "alpha = 0.01\n",
    "dof = get_dof(g3_int, g3_noint)\n",
    "t_alpha = stats.t.ppf(alpha, dof)\n",
    "\n",
    "print(\"d.f. = %3.4f\" % round(dof, 4))\n",
    "print(\"t_alpha = %1.4f\" % round(t_alpha, 4))"
   ]
  },
  {
   "cell_type": "markdown",
   "metadata": {},
   "source": [
    "Let's plot the distribution and mark $t$ and $t_{\\alpha}$."
   ]
  },
  {
   "cell_type": "code",
   "execution_count": 50,
   "metadata": {},
   "outputs": [
    {
     "data": {
      "image/png": "[encoded data removed]",
      "text/plain": [
       "<Figure size 432x288 with 1 Axes>"
      ]
     },
     "metadata": {
      "needs_background": "light"
     },
     "output_type": "display_data"
    }
   ],
   "source": [
    "plot_hypo_t(0, t, t_alpha, 0.001, 0.999)"
   ]
  },
  {
   "cell_type": "markdown",
   "metadata": {},
   "source": [
    "$t_{\\alpha} = -1.6827 < t = -0.3144$\n",
    "\n",
    "and based on the chart test statistic $t$ falls into \"fail to reject\" region. Also $pvalue=0.3774 > \\alpha = 0.01$ that indicates that we cannot reject the null hypothesis.\n",
    "\n",
    "There is not enough evidence to suggest that students without internet access has better grades than students with internet access."
   ]
  },
  {
   "cell_type": "markdown",
   "metadata": {},
   "source": [
    "### 3.\tAre the math grades between the two schools different (alpha=0.1)?"
   ]
  },
  {
   "cell_type": "markdown",
   "metadata": {},
   "source": [
    "First, let's get 2 samples and calculate basic statistics."
   ]
  },
  {
   "cell_type": "code",
   "execution_count": 51,
   "metadata": {},
   "outputs": [
    {
     "name": "stdout",
     "output_type": "stream",
     "text": [
      "Sample statistics of Math grades in Gabriel Pereira:\n",
      "n_1 = 34\n",
      "x_bar_1 = 9.5882\n",
      "s_1 = 4.9551\n",
      "Sample statistics of Math grades in Mousinho da Silveira:\n",
      "n_2 = 3\n",
      "x_bar_2 = 12.3333\n",
      "s_2 = 4.6188\n"
     ]
    }
   ],
   "source": [
    "math_data = sample[sample['subject'] == 'math']\n",
    "\n",
    "g3_gp = math_data[math_data['school'] == 'GP']['G3']\n",
    "g3_ms = math_data[math_data['school'] == 'MS']['G3']\n",
    "\n",
    "n_1, x_1, s_1 = get_stats(g3_gp)\n",
    "n_2, x_2, s_2 = get_stats(g3_ms)\n",
    "\n",
    "print(\"Sample statistics of Math grades in Gabriel Pereira:\")\n",
    "print(\"n_1 = %d\" % n_1)\n",
    "print(\"x_bar_1 = %4.4f\" % x_1)\n",
    "print(\"s_1 = %4.4f\" % s_1)\n",
    "\n",
    "print(\"Sample statistics of Math grades in Mousinho da Silveira:\")\n",
    "print(\"n_2 = %d\" % n_2)\n",
    "print(\"x_bar_2 = %4.4f\" % x_2)\n",
    "print(\"s_2 = %4.4f\" % s_2)"
   ]
  },
  {
   "cell_type": "markdown",
   "metadata": {},
   "source": [
    "Number of records in the seconds sample is only 3. So I am going to generate a new larger sample n=300 and try again. New sample will be saved as sample_hypo_3.csv."
   ]
  },
  {
   "cell_type": "code",
   "execution_count": 52,
   "metadata": {},
   "outputs": [
    {
     "name": "stdout",
     "output_type": "stream",
     "text": [
      "Reading sample from the file.\n"
     ]
    }
   ],
   "source": [
    "sample_hypo_3 = get_sample(\"data/sample_hypo_3.csv\", n=300)"
   ]
  },
  {
   "cell_type": "code",
   "execution_count": 53,
   "metadata": {},
   "outputs": [
    {
     "name": "stdout",
     "output_type": "stream",
     "text": [
      "Sample statistics of Math grades in Gabriel Pereira:\n",
      "n_1 = 93\n",
      "x_bar_1 = 10.7957\n",
      "s_1 = 4.5434\n",
      "Sample statistics of Math grades in Mousinho da Silveira:\n",
      "n_2 = 14\n",
      "x_bar_2 = 10.3571\n",
      "s_2 = 4.8295\n"
     ]
    }
   ],
   "source": [
    "math_data = sample_hypo_3[sample_hypo_3['subject'] == 'math']\n",
    "\n",
    "g3_gp = math_data[math_data['school'] == 'GP']['G3']\n",
    "g3_ms = math_data[math_data['school'] == 'MS']['G3']\n",
    "\n",
    "n_1, x_1, s_1 = get_stats(g3_gp)\n",
    "n_2, x_2, s_2 = get_stats(g3_ms)\n",
    "\n",
    "print(\"Sample statistics of Math grades in Gabriel Pereira:\")\n",
    "print(\"n_1 = %d\" % n_1)\n",
    "print(\"x_bar_1 = %4.4f\" % x_1)\n",
    "print(\"s_1 = %4.4f\" % s_1)\n",
    "\n",
    "print(\"Sample statistics of Math grades in Mousinho da Silveira:\")\n",
    "print(\"n_2 = %d\" % n_2)\n",
    "print(\"x_bar_2 = %4.4f\" % x_2)\n",
    "print(\"s_2 = %4.4f\" % s_2)"
   ]
  },
  {
   "cell_type": "markdown",
   "metadata": {},
   "source": [
    "Since we need to check if the math grades are different we are going to use a 2 tailed test. Also as before assuming that population $\\sigma$ is unknown and unequal variance.\n",
    "\n",
    "$H_0: \\mu_1 - \\mu_2 = 0$\n",
    "\n",
    "$H_a: \\mu_1 - \\mu_2 \\ne 0$\n",
    "\n",
    "$\\alpha = 0.1$\n",
    "\n",
    "$$t = \\frac{\\bar{x_1} - \\bar{x_2}}{\\sqrt{\\frac{s_1^2}{n_1} + \\frac{s_2^2}{n_2}}}$$"
   ]
  },
  {
   "cell_type": "code",
   "execution_count": 54,
   "metadata": {},
   "outputs": [
    {
     "name": "stdout",
     "output_type": "stream",
     "text": [
      "t = 0.3192\n",
      "p-value 2 tailed = 0.7536\n"
     ]
    }
   ],
   "source": [
    "t, p = stats.ttest_ind(g3_gp, g3_ms, equal_var = False)\n",
    "print(\"t = %1.4f\" % round(t, 4))\n",
    "print(\"p-value 2 tailed = %1.4f\" % round(p, 4))"
   ]
  },
  {
   "cell_type": "markdown",
   "metadata": {},
   "source": [
    "Test statistic $t$ and p-value are known, next, we calculate $t_{\\alpha/2}$ since this is a 2-tailed test."
   ]
  },
  {
   "cell_type": "code",
   "execution_count": 55,
   "metadata": {},
   "outputs": [
    {
     "name": "stdout",
     "output_type": "stream",
     "text": [
      "d.f. = 16.6530\n",
      "t_alpha = -1.7417\n"
     ]
    }
   ],
   "source": [
    "alpha = 0.1\n",
    "dof = get_dof(g3_gp, g3_ms)\n",
    "t_alpha = stats.t.ppf(alpha/2, dof)\n",
    "\n",
    "print(\"d.f. = %3.4f\" % round(dof, 4))\n",
    "print(\"t_alpha = %1.4f\" % round(t_alpha, 4))"
   ]
  },
  {
   "cell_type": "code",
   "execution_count": 56,
   "metadata": {},
   "outputs": [
    {
     "data": {
      "image/png": "[encoded data removed]",
      "text/plain": [
       "<Figure size 432x288 with 1 Axes>"
      ]
     },
     "metadata": {
      "needs_background": "light"
     },
     "output_type": "display_data"
    }
   ],
   "source": [
    "plot_hypo_t(0, t, t_alpha, 0.001, 0.999, True)"
   ]
  },
  {
   "cell_type": "markdown",
   "metadata": {},
   "source": [
    "Test statistics falls into \"Fail to reject\" region. Also $pvalue=0.7536 > \\alpha=0.1$. So we fail to reject the null hypothesis $H_0$."
   ]
  },
  {
   "cell_type": "markdown",
   "metadata": {},
   "source": [
    "We conclude that there is not enough evidence to suggest that there is a difference in math grades between 2 schools at 10% significance level."
   ]
  },
  {
   "cell_type": "markdown",
   "metadata": {},
   "source": [
    "### 4. Do students who study more than 5 hours a week get better grades than those who study less at 10% significance level?"
   ]
  },
  {
   "cell_type": "markdown",
   "metadata": {},
   "source": [
    "Variable studytime indicates a bucket to which studytime of particular studets falls. I am interested in two samples - first with studytime $\\leq$ 2 and second where studytime > 2. I am going to use original sample."
   ]
  },
  {
   "cell_type": "code",
   "execution_count": 57,
   "metadata": {},
   "outputs": [
    {
     "name": "stdout",
     "output_type": "stream",
     "text": [
      "Sample statistics of grades of students who study less than 5 hours a week:\n",
      "n_1 = 74\n",
      "x_bar_1 = 10.9189\n",
      "s_1 = 3.8526\n",
      "Sample statistics of grades of students who study more than 5 hours a week:\n",
      "n_2 = 21\n",
      "x_bar_2 = 11.8571\n",
      "s_2 = 4.2342\n"
     ]
    }
   ],
   "source": [
    "g3_less = sample[sample['studytime'] <= 2]['G3']\n",
    "g3_more = sample[sample['studytime'] > 2]['G3']\n",
    "\n",
    "n_1, x_1, s_1 = get_stats(g3_less)\n",
    "n_2, x_2, s_2 = get_stats(g3_more)\n",
    "\n",
    "print(\"Sample statistics of grades of students who study less than 5 hours a week:\")\n",
    "print(\"n_1 = %d\" % n_1)\n",
    "print(\"x_bar_1 = %4.4f\" % x_1)\n",
    "print(\"s_1 = %4.4f\" % s_1)\n",
    "\n",
    "print(\"Sample statistics of grades of students who study more than 5 hours a week:\")\n",
    "print(\"n_2 = %d\" % n_2)\n",
    "print(\"x_bar_2 = %4.4f\" % x_2)\n",
    "print(\"s_2 = %4.4f\" % s_2)"
   ]
  },
  {
   "cell_type": "markdown",
   "metadata": {},
   "source": [
    "Let's conduct a hypothesis test.\n",
    "\n",
    "$H_0: \\mu_1 - \\mu_2 = 0$\n",
    "\n",
    "$H_a: \\mu_1 - \\mu_2 < 0$\n",
    "\n",
    "$\\alpha = 0.1$\n",
    "\n",
    "Samples are independent and I assume that population $\\sigma$ is unknown and unequal variance.\n",
    "\n",
    "$$t = \\frac{\\bar{x_1} - \\bar{x_2}}{\\sqrt{\\frac{s_1^2}{n_1} + \\frac{s_2^2}{n_2}}}$$"
   ]
  },
  {
   "cell_type": "code",
   "execution_count": 58,
   "metadata": {},
   "outputs": [
    {
     "name": "stdout",
     "output_type": "stream",
     "text": [
      "t = -0.9137\n",
      "p-value 2 tailed = 0.3681\n",
      "p-value = 0.1841\n"
     ]
    }
   ],
   "source": [
    "t, p = stats.ttest_ind(g3_less, g3_more, equal_var = False)\n",
    "print(\"t = %1.4f\" % round(t, 4))\n",
    "print(\"p-value 2 tailed = %1.4f\" % round(p, 4))\n",
    "print(\"p-value = %1.4f\" % round(p/2, 4))"
   ]
  },
  {
   "cell_type": "markdown",
   "metadata": {},
   "source": [
    "Let's find a critical value $t_{\\alpha}$ since this is a 1-tailed test."
   ]
  },
  {
   "cell_type": "code",
   "execution_count": 59,
   "metadata": {},
   "outputs": [
    {
     "name": "stdout",
     "output_type": "stream",
     "text": [
      "d.f. = 30.0471\n",
      "t_alpha = -1.3104\n"
     ]
    }
   ],
   "source": [
    "alpha = 0.1\n",
    "dof = get_dof(g3_less, g3_more)\n",
    "t_alpha = stats.t.ppf(alpha, dof)\n",
    "\n",
    "print(\"d.f. = %3.4f\" % round(dof, 4))\n",
    "print(\"t_alpha = %1.4f\" % round(t_alpha, 4))"
   ]
  },
  {
   "cell_type": "code",
   "execution_count": 60,
   "metadata": {},
   "outputs": [
    {
     "data": {
      "image/png": "[encoded data removed]",
      "text/plain": [
       "<Figure size 432x288 with 1 Axes>"
      ]
     },
     "metadata": {
      "needs_background": "light"
     },
     "output_type": "display_data"
    }
   ],
   "source": [
    "plot_hypo_t(0, t, t_alpha)"
   ]
  },
  {
   "cell_type": "markdown",
   "metadata": {},
   "source": [
    "$pvalue = 0.1841 > \\alpha=0.1$ so we fail to reject the null hypothesis. Also, you can see on plot above that test statistic $t$ falls into the \"Do not reject\" region.\n",
    "\n",
    "There is not enough evidence to suggest that students who study more than 5 hours a week get better grades than students who study less than 5 hours a week at 10% significance level."
   ]
  },
  {
   "cell_type": "markdown",
   "metadata": {},
   "source": [
    "### 5. Do students who consume alcohol very little regardless of the day of the week get higher grades than others?"
   ]
  },
  {
   "cell_type": "markdown",
   "metadata": {},
   "source": [
    "Students who consume alcohol very little are those with Dalc = 1 and Walc = 1. Studen't who consumes alcohol more than very little are everyone else, Dals != 1 or Walc != 1. Let's split the sample."
   ]
  },
  {
   "cell_type": "code",
   "execution_count": 61,
   "metadata": {},
   "outputs": [
    {
     "name": "stdout",
     "output_type": "stream",
     "text": [
      "Sample statistics of grades of students who do not consume alcohol:\n",
      "n_1 = 42\n",
      "x_bar_1 = 12.0714\n",
      "s_1 = 4.0569\n",
      "Sample statistics of grades of students who consumes more than very low alcohol:\n",
      "n_2 = 53\n",
      "x_bar_2 = 10.3774\n",
      "s_2 = 3.7067\n"
     ]
    }
   ],
   "source": [
    "g3_no_alc = sample[ (sample['Dalc'] == 1) & (sample['Walc'] == 1)]['G3']\n",
    "g3_alc = sample[ (sample['Dalc'] != 1) | (sample['Walc'] != 1)]['G3']\n",
    "\n",
    "n_1, x_1, s_1 = get_stats(g3_no_alc)\n",
    "n_2, x_2, s_2 = get_stats(g3_alc)\n",
    "\n",
    "print(\"Sample statistics of grades of students who do not consume alcohol:\")\n",
    "print(\"n_1 = %d\" % n_1)\n",
    "print(\"x_bar_1 = %4.4f\" % x_1)\n",
    "print(\"s_1 = %4.4f\" % s_1)\n",
    "\n",
    "print(\"Sample statistics of grades of students who consumes more than very low alcohol:\")\n",
    "print(\"n_2 = %d\" % n_2)\n",
    "print(\"x_bar_2 = %4.4f\" % x_2)\n",
    "print(\"s_2 = %4.4f\" % s_2)"
   ]
  },
  {
   "cell_type": "markdown",
   "metadata": {},
   "source": [
    "Let's conduct a hypothesis test.\n",
    "\n",
    "$H_0: \\mu_1 - \\mu_2 = 0$\n",
    "\n",
    "$H_a: \\mu_1 - \\mu_2 > 0$\n",
    "\n",
    "$\\alpha = 0.05$\n",
    "\n",
    "Samples are independent and I assume that population $\\sigma$ is unknown and unequal variance.\n",
    "\n",
    "$$t = \\frac{\\bar{x_1} - \\bar{x_2}}{\\sqrt{\\frac{s_1^2}{n_1} + \\frac{s_2^2}{n_2}}}$$"
   ]
  },
  {
   "cell_type": "code",
   "execution_count": 62,
   "metadata": {},
   "outputs": [
    {
     "name": "stdout",
     "output_type": "stream",
     "text": [
      "t = 2.0995\n",
      "p-value 2 tailed = 0.0388\n",
      "p-value = 0.0194\n"
     ]
    }
   ],
   "source": [
    "t, p = stats.ttest_ind(g3_no_alc, g3_alc, equal_var = False)\n",
    "print(\"t = %1.4f\" % round(t, 4))\n",
    "print(\"p-value 2 tailed = %1.4f\" % round(p, 4))\n",
    "print(\"p-value = %1.4f\" % round(p/2, 4))"
   ]
  },
  {
   "cell_type": "markdown",
   "metadata": {},
   "source": [
    "Now let's calculate critical value $t_{\\alpha}$ for the upper-tail t-test."
   ]
  },
  {
   "cell_type": "code",
   "execution_count": 63,
   "metadata": {},
   "outputs": [
    {
     "name": "stdout",
     "output_type": "stream",
     "text": [
      "d.f. = 84.1523\n",
      "t_alpha = 1.6632\n"
     ]
    }
   ],
   "source": [
    "alpha = 0.05\n",
    "dof = get_dof(g3_no_alc, g3_alc)\n",
    "t_alpha = -1 * stats.t.ppf(alpha, dof)\n",
    "\n",
    "print(\"d.f. = %3.4f\" % round(dof, 4))\n",
    "print(\"t_alpha = %1.4f\" % round(t_alpha, 4))"
   ]
  },
  {
   "cell_type": "code",
   "execution_count": 64,
   "metadata": {},
   "outputs": [
    {
     "data": {
      "image/png": "[encoded data removed]",
      "text/plain": [
       "<Figure size 432x288 with 1 Axes>"
      ]
     },
     "metadata": {
      "needs_background": "light"
     },
     "output_type": "display_data"
    }
   ],
   "source": [
    "plot_hypo_t(0, t, t_alpha)"
   ]
  },
  {
   "cell_type": "markdown",
   "metadata": {},
   "source": [
    "Test statistic $t$ falls into the rejection region $t=2.0995 > t_{\\alpha} = 1.6632$.\n",
    "\n",
    "$pvalue = 0.0194 < \\alpha = 0.05$\n",
    "\n",
    "Therefore, we reject the null hypothesis $H_0$. There is enough evidence to suggest that students who do not consume alcohol or consume very little get better grades than students who consume more than very little of alcohol per week at 5% significance level."
   ]
  },
  {
   "cell_type": "code",
   "execution_count": null,
   "metadata": {},
   "outputs": [],
   "source": []
  }
 ],
 "metadata": {
  "kernelspec": {
   "display_name": "Python 3",
   "language": "python",
   "name": "python3"
  },
  "language_info": {
   "codemirror_mode": {
    "name": "ipython",
    "version": 3
   },
   "file_extension": ".py",
   "mimetype": "text/x-python",
   "name": "python",
   "nbconvert_exporter": "python",
   "pygments_lexer": "ipython3",
   "version": "3.7.0"
  }
 },
 "nbformat": 4,
 "nbformat_minor": 2
}
